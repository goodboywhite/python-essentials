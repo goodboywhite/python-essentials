{
 "cells": [
  {
   "cell_type": "markdown",
   "metadata": {
    "slideshow": {
     "slide_type": "slide"
    }
   },
   "source": [
    "# for 迴圈\n",
    "\n",
    "## 郭耀仁"
   ]
  },
  {
   "cell_type": "markdown",
   "metadata": {
    "slideshow": {
     "slide_type": "slide"
    }
   },
   "source": [
    "## 一次印出一個球員\n",
    "\n",
    "```python\n",
    "favorite_players = ['Hakeem Olajuwon', 'Kevin Garnett', 'Paul Pierce', 'Michael Jordan', 'Steve Nash']\n",
    "```"
   ]
  },
  {
   "cell_type": "markdown",
   "metadata": {
    "slideshow": {
     "slide_type": "subslide"
    }
   },
   "source": [
    "## 一次印出一個球員（2）\n",
    "\n",
    "- 土法煉鋼的方法"
   ]
  },
  {
   "cell_type": "code",
   "execution_count": 1,
   "metadata": {},
   "outputs": [
    {
     "name": "stdout",
     "output_type": "stream",
     "text": [
      "Hakeem Olajuwon\n",
      "Kevin Garnett\n",
      "Paul Pierce\n",
      "Michael Jordan\n",
      "Steve Nash\n"
     ]
    }
   ],
   "source": [
    "favorite_players = ['Hakeem Olajuwon', 'Kevin Garnett', 'Paul Pierce', 'Michael Jordan', 'Steve Nash']\n",
    "\n",
    "print(favorite_players[0])\n",
    "print(favorite_players[1])\n",
    "print(favorite_players[2])\n",
    "print(favorite_players[3])\n",
    "print(favorite_players[4])"
   ]
  },
  {
   "cell_type": "markdown",
   "metadata": {
    "slideshow": {
     "slide_type": "subslide"
    }
   },
   "source": [
    "## 一次印出一個球員（3）\n",
    "\n",
    "- 或者寫一個迴圈"
   ]
  },
  {
   "cell_type": "code",
   "execution_count": 2,
   "metadata": {},
   "outputs": [
    {
     "name": "stdout",
     "output_type": "stream",
     "text": [
      "Hakeem Olajuwon\n",
      "Kevin Garnett\n",
      "Paul Pierce\n",
      "Michael Jordan\n",
      "Steve Nash\n"
     ]
    }
   ],
   "source": [
    "favorite_players = ['Hakeem Olajuwon', 'Kevin Garnett', 'Paul Pierce', 'Michael Jordan', 'Steve Nash']\n",
    "\n",
    "# 迴圈結構\n",
    "for player in favorite_players:\n",
    "    print(player)"
   ]
  },
  {
   "cell_type": "markdown",
   "metadata": {
    "slideshow": {
     "slide_type": "slide"
    }
   },
   "source": [
    "## 迴圈的結構\n",
    "\n",
    "- 宣告迴圈的種類（`for`）\n",
    "- 宣告一個 **iterator**（`player`）\n",
    "- 宣告一個迴圈要跑的**iterable**（`favorite_players`）\n",
    "- **縮排**宣告每一次 **iterator** 變動的時候要做什麼事（`print(player)`）"
   ]
  },
  {
   "cell_type": "markdown",
   "metadata": {
    "slideshow": {
     "slide_type": "subslide"
    }
   },
   "source": [
    "## iterator 用單數，iterable 用複數\n",
    "\n",
    "```python\n",
    "for cat in cats:\n",
    "for dog in dogs:\n",
    "for item in list_of_items:\n",
    "```"
   ]
  },
  {
   "cell_type": "markdown",
   "metadata": {
    "slideshow": {
     "slide_type": "subslide"
    }
   },
   "source": [
    "## 每次迭代多做一點事\n",
    "\n",
    "- 將球員的 first name 印出來"
   ]
  },
  {
   "cell_type": "code",
   "execution_count": 3,
   "metadata": {},
   "outputs": [
    {
     "name": "stdout",
     "output_type": "stream",
     "text": [
      "Hakeem\n",
      "Kevin\n",
      "Paul\n",
      "Michael\n",
      "Steve\n"
     ]
    }
   ],
   "source": [
    "favorite_players = ['Hakeem Olajuwon', 'Kevin Garnett', 'Paul Pierce', 'Michael Jordan', 'Steve Nash']\n",
    "\n",
    "# 迴圈結構\n",
    "for player in favorite_players:\n",
    "    print(player.split()[0])"
   ]
  },
  {
   "cell_type": "markdown",
   "metadata": {
    "slideshow": {
     "slide_type": "subslide"
    }
   },
   "source": [
    "## 迭代結束再輸出\n",
    "\n",
    "- 將球員的 first name 存入另一個 list 中"
   ]
  },
  {
   "cell_type": "code",
   "execution_count": 4,
   "metadata": {},
   "outputs": [
    {
     "name": "stdout",
     "output_type": "stream",
     "text": [
      "['Hakeem', 'Kevin', 'Paul', 'Michael', 'Steve']\n"
     ]
    }
   ],
   "source": [
    "favorite_players = ['Hakeem Olajuwon', 'Kevin Garnett', 'Paul Pierce', 'Michael Jordan', 'Steve Nash']\n",
    "first_names = []\n",
    "\n",
    "# 迴圈結構\n",
    "for player in favorite_players:\n",
    "    first_names.append(player.split()[0])\n",
    "    \n",
    "print(first_names)"
   ]
  },
  {
   "cell_type": "markdown",
   "metadata": {
    "slideshow": {
     "slide_type": "subslide"
    }
   },
   "source": [
    "## 注意事項\n",
    "\n",
    "- 忘記縮排\n",
    "- 不必要的縮排\n",
    "- 忘記冒號"
   ]
  },
  {
   "cell_type": "markdown",
   "metadata": {
    "slideshow": {
     "slide_type": "subslide"
    }
   },
   "source": [
    "## 隨堂練習\n",
    "\n",
    "用 `for` 迴圈計算 1 到 100 的平均數\n",
    "\n",
    "$$\\bar{x} = \\frac{\\displaystyle\\sum_{i=1}^{n}xi}{n}$$"
   ]
  },
  {
   "cell_type": "markdown",
   "metadata": {
    "slideshow": {
     "slide_type": "subslide"
    }
   },
   "source": [
    "## 隨堂練習\n",
    "\n",
    "用 `for` 迴圈找出 87 的所有因數"
   ]
  },
  {
   "cell_type": "markdown",
   "metadata": {
    "slideshow": {
     "slide_type": "subslide"
    }
   },
   "source": [
    "## 文字也 iterable\n",
    "\n",
    "```python\n",
    "luke = \"Luke Skywalker\"\n",
    "upper_case = \"\"\n",
    "for s in luke:\n",
    "    upper_case += s.upper\n",
    "upper_case\n",
    "```"
   ]
  },
  {
   "cell_type": "code",
   "execution_count": 5,
   "metadata": {},
   "outputs": [
    {
     "data": {
      "text/plain": [
       "'LUKE SKYWALKER'"
      ]
     },
     "execution_count": 5,
     "metadata": {},
     "output_type": "execute_result"
    }
   ],
   "source": [
    "luke = \"Luke Skywalker\"\n",
    "LUKE = \"\"\n",
    "for s in luke:\n",
    "    LUKE += s.upper()\n",
    "LUKE"
   ]
  },
  {
   "cell_type": "markdown",
   "metadata": {
    "slideshow": {
     "slide_type": "subslide"
    }
   },
   "source": [
    "## 隨堂練習\n",
    "\n",
    "- 計算字串英文字母的母音（a, e, i, o, u）個數\n",
    "- 舉例而來說如果使用者輸入 'azcbobobegghakl'，應該印出：\n",
    "\n",
    "```\n",
    "Number of vowels: 5\n",
    "```"
   ]
  },
  {
   "cell_type": "markdown",
   "metadata": {
    "slideshow": {
     "slide_type": "subslide"
    }
   },
   "source": [
    "## 隨堂練習\n",
    "\n",
    "- 計算字串裡面 'bob' 出現的次數\n",
    "- 舉例而來說如果使用者輸入 'azcbobobegghakl'，應該印出：\n",
    "\n",
    "```\n",
    "Number of times bob occurs is: 2\n",
    "```"
   ]
  },
  {
   "cell_type": "markdown",
   "metadata": {
    "slideshow": {
     "slide_type": "slide"
    }
   },
   "source": [
    "## List Comprehension\n",
    "\n",
    "- 將球員的 first name 存入另一個 list 中"
   ]
  },
  {
   "cell_type": "code",
   "execution_count": 6,
   "metadata": {},
   "outputs": [
    {
     "name": "stdout",
     "output_type": "stream",
     "text": [
      "['Hakeem', 'Kevin', 'Paul', 'Michael', 'Steve']\n"
     ]
    }
   ],
   "source": [
    "favorite_players = ['Hakeem Olajuwon', 'Kevin Garnett', 'Paul Pierce', 'Michael Jordan', 'Steve Nash']\n",
    "first_names = [player.split()[0] for player in favorite_players]\n",
    "print(first_names)"
   ]
  },
  {
   "cell_type": "markdown",
   "metadata": {
    "slideshow": {
     "slide_type": "subslide"
    }
   },
   "source": [
    "## List Comprehension（2）\n",
    "\n",
    "- 將單位轉換為英里（mile）\n",
    "\n",
    "```python\n",
    "distances_km = [0.4, 1, 3, 5, 10, 21, 42.195]\n",
    "```"
   ]
  },
  {
   "cell_type": "markdown",
   "metadata": {
    "slideshow": {
     "slide_type": "slide"
    }
   },
   "source": [
    "## 使用 enumerate() 函數\n",
    "\n",
    "- 同時使用 sequence 的索引值與其中的內容值"
   ]
  },
  {
   "cell_type": "code",
   "execution_count": 7,
   "metadata": {},
   "outputs": [
    {
     "name": "stdout",
     "output_type": "stream",
     "text": [
      "1 : Hakeem Olajuwon\n",
      "2 : Kevin Garnett\n",
      "3 : Paul Pierce\n",
      "4 : Michael Jordan\n",
      "5 : Steve Nash\n"
     ]
    }
   ],
   "source": [
    "favorite_players = ['Hakeem Olajuwon', 'Kevin Garnett', 'Paul Pierce', 'Michael Jordan', 'Steve Nash']\n",
    "\n",
    "for idx, player in enumerate(favorite_players):\n",
    "    print(\"{} : {}\".format(idx + 1, player))"
   ]
  },
  {
   "cell_type": "markdown",
   "metadata": {
    "slideshow": {
     "slide_type": "slide"
    }
   },
   "source": [
    "## 使用 zip() 函數\n",
    "\n",
    "- 同時使用兩個以上 sequences 的內容值"
   ]
  },
  {
   "cell_type": "code",
   "execution_count": 8,
   "metadata": {},
   "outputs": [
    {
     "name": "stdout",
     "output_type": "stream",
     "text": [
      "34 : Hakeem Olajuwon\n",
      "21 : Kevin Garnett\n",
      "34 : Paul Pierce\n",
      "23 : Michael Jordan\n",
      "13 : Steve Nash\n"
     ]
    }
   ],
   "source": [
    "jersey_numbers = [34, 21, 34, 23, 13]\n",
    "favorite_players = ['Hakeem Olajuwon', 'Kevin Garnett', 'Paul Pierce', 'Michael Jordan', 'Steve Nash']\n",
    "\n",
    "for jersey_number, player in zip(jersey_numbers, favorite_players):\n",
    "    print(\"{} : {}\".format(jersey_number, player))"
   ]
  },
  {
   "cell_type": "code",
   "execution_count": 9,
   "metadata": {
    "slideshow": {
     "slide_type": "subslide"
    }
   },
   "outputs": [
    {
     "name": "stdout",
     "output_type": "stream",
     "text": [
      "C : Hakeem Olajuwon(34)\n",
      "PF : Kevin Garnett(21)\n",
      "SF : Paul Pierce(34)\n",
      "SG : Michael Jordan(23)\n",
      "PG : Steve Nash(13)\n"
     ]
    }
   ],
   "source": [
    "jersey_numbers = [34, 21, 34, 23, 13]\n",
    "favorite_players = ['Hakeem Olajuwon', 'Kevin Garnett', 'Paul Pierce', 'Michael Jordan', 'Steve Nash']\n",
    "positions = ['C', 'PF', 'SF', 'SG', 'PG']\n",
    "\n",
    "for jersey_number, player, position in zip(jersey_numbers, favorite_players, positions):\n",
    "    print(\"{} : {}({})\".format(position, player, jersey_number))"
   ]
  },
  {
   "cell_type": "markdown",
   "metadata": {
    "slideshow": {
     "slide_type": "slide"
    }
   },
   "source": [
    "## 作業 1\n",
    "\n",
    "- 實作[標準差](https://zh.wikipedia.org/wiki/%E6%A8%99%E6%BA%96%E5%B7%AE)的計算\n",
    "- 計算 `range(1, 101)` 的標準差\n",
    "\n",
    "$$SD = \\sqrt{\\frac{1}{N-1}\\sum_{i=1}^{N}(x_i - \\bar{x})^2}$$"
   ]
  }
 ],
 "metadata": {
  "celltoolbar": "Slideshow",
  "kernelspec": {
   "display_name": "Python 3",
   "language": "python",
   "name": "python3"
  },
  "language_info": {
   "codemirror_mode": {
    "name": "ipython",
    "version": 3
   },
   "file_extension": ".py",
   "mimetype": "text/x-python",
   "name": "python",
   "nbconvert_exporter": "python",
   "pygments_lexer": "ipython3",
   "version": "3.6.0"
  }
 },
 "nbformat": 4,
 "nbformat_minor": 1
}
