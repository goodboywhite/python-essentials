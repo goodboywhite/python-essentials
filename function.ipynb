{
 "cells": [
  {
   "cell_type": "markdown",
   "metadata": {
    "slideshow": {
     "slide_type": "slide"
    }
   },
   "source": [
    "# 函數\n",
    "\n",
    "## 郭耀仁"
   ]
  },
  {
   "cell_type": "markdown",
   "metadata": {
    "slideshow": {
     "slide_type": "slide"
    }
   },
   "source": [
    "## 函數是什麼？\n",
    "\n",
    "- 我們把函數拆分成三個元件：\n",
    "    - 輸入（input）\n",
    "    - 參數（arguments, 常縮寫為 args）\n",
    "    - 輸出（output）\n",
    "\n",
    "![function_img](https://storage.googleapis.com/py_ds_basic/function_img.png)"
   ]
  },
  {
   "cell_type": "markdown",
   "metadata": {
    "slideshow": {
     "slide_type": "subslide"
    }
   },
   "source": [
    "## 內建函數\n",
    "\n",
    "<https://docs.python.org/3/library/functions.html>"
   ]
  },
  {
   "cell_type": "markdown",
   "metadata": {
    "slideshow": {
     "slide_type": "slide"
    }
   },
   "source": [
    "## 自訂函數\n",
    "\n",
    "- 自訂函數的結構\n",
    "\n",
    "```python\n",
    "def function_name(輸入1, 輸入2, 參數1, 參數2, ...):\n",
    "    \"\"\"\n",
    "    Docstrings\n",
    "    \"\"\"\n",
    "    # 做些什麼事\n",
    "    return 輸出\n",
    "```"
   ]
  },
  {
   "cell_type": "markdown",
   "metadata": {
    "slideshow": {
     "slide_type": "subslide"
    }
   },
   "source": [
    "## 自訂函數（2）\n",
    "\n",
    "- $f(x) = x^2$"
   ]
  },
  {
   "cell_type": "code",
   "execution_count": 1,
   "metadata": {},
   "outputs": [
    {
     "name": "stdout",
     "output_type": "stream",
     "text": [
      "Help on function squared in module __main__:\n",
      "\n",
      "squared(x)\n",
      "    將輸入的數字平方之後回傳\n",
      "\n",
      "9\n"
     ]
    }
   ],
   "source": [
    "def squared(x):\n",
    "    \"\"\"\n",
    "    將輸入的數字平方之後回傳\n",
    "    \"\"\"\n",
    "    y = x**2\n",
    "    return y\n",
    "\n",
    "help(squared)\n",
    "print(squared(3))"
   ]
  },
  {
   "cell_type": "markdown",
   "metadata": {
    "slideshow": {
     "slide_type": "subslide"
    }
   },
   "source": [
    "## 自訂函數（3）\n",
    "\n",
    "- $f(x) = | x |$"
   ]
  },
  {
   "cell_type": "code",
   "execution_count": 2,
   "metadata": {},
   "outputs": [
    {
     "name": "stdout",
     "output_type": "stream",
     "text": [
      "Help on function my_abs in module __main__:\n",
      "\n",
      "my_abs(x)\n",
      "    將輸入的數字取絕對值之後回傳\n",
      "\n",
      "5\n",
      "10\n"
     ]
    }
   ],
   "source": [
    "def my_abs(x):\n",
    "    \"\"\"\n",
    "    將輸入的數字取絕對值之後回傳\n",
    "    \"\"\"\n",
    "    if x < 0:\n",
    "        return -x\n",
    "    else:\n",
    "        return x\n",
    "\n",
    "help(my_abs)\n",
    "print(my_abs(-5))\n",
    "print(my_abs(10))"
   ]
  },
  {
   "cell_type": "markdown",
   "metadata": {
    "slideshow": {
     "slide_type": "subslide"
    }
   },
   "source": [
    "## 隨堂練習\n",
    "\n",
    "- Sign 函數\n",
    "\n",
    "$$\n",
    "f(x) = sgn(x) =\n",
    "  \\begin{cases}\n",
    "    -1 & \\quad \\text{if } x < 0\\\\\n",
    "    0  & \\quad \\text{if } x = 0\\\\\n",
    "    1  & \\quad \\text{if } x > 0\\\\\n",
    "  \\end{cases}\n",
    "$$"
   ]
  },
  {
   "cell_type": "code",
   "execution_count": 3,
   "metadata": {
    "slideshow": {
     "slide_type": "skip"
    }
   },
   "outputs": [
    {
     "data": {
      "text/plain": [
       "<matplotlib.text.Text at 0x1162cccc0>"
      ]
     },
     "execution_count": 3,
     "metadata": {},
     "output_type": "execute_result"
    }
   ],
   "source": [
    "import numpy as np\n",
    "import matplotlib.pyplot as plt\n",
    "\n",
    "def sign_fun(x):\n",
    "    if x < 0:\n",
    "        return -1\n",
    "    elif x == 0:\n",
    "        return 0\n",
    "    else:\n",
    "        return 1\n",
    "\n",
    "x_arr_1 = np.linspace(-5, -0.1, 50)\n",
    "x_arr_2 = 0\n",
    "x_arr_3 = np.linspace(0.1, 5, 50)\n",
    "y_arr_1 = list(map(sign_fun, x_arr_1))\n",
    "y_arr_2 = 0\n",
    "y_arr_3 = list(map(sign_fun, x_arr_3))\n",
    "plt.plot(x_arr_1, y_arr_1, c = \"b\")\n",
    "plt.scatter(x_arr_2, y_arr_2, c = \"b\")\n",
    "plt.scatter([0, 0], [-1, 1], facecolors = 'none', edgecolors = 'b')\n",
    "plt.plot(x_arr_3, y_arr_3, c = \"b\")\n",
    "plt.xticks([0], [\"0\"]), plt.yticks([-1, 0, 1], [\"-1\", \"0\", \"1\"])\n",
    "plt.title(\"$y = sign(x)$\")"
   ]
  },
  {
   "cell_type": "code",
   "execution_count": 4,
   "metadata": {
    "slideshow": {
     "slide_type": "subslide"
    }
   },
   "outputs": [
    {
     "data": {
      "image/png": "[encoded data removed]",
      "text/plain": [
       "<matplotlib.figure.Figure at 0x10ff95a58>"
      ]
     },
     "metadata": {},
     "output_type": "display_data"
    }
   ],
   "source": [
    "plt.show()"
   ]
  },
  {
   "cell_type": "markdown",
   "metadata": {
    "slideshow": {
     "slide_type": "subslide"
    }
   },
   "source": [
    "## 自訂函數（4）\n",
    "\n",
    "- 計算圓形的面積或周長"
   ]
  },
  {
   "cell_type": "code",
   "execution_count": 5,
   "metadata": {},
   "outputs": [
    {
     "name": "stdout",
     "output_type": "stream",
     "text": [
      "Help on function circle_calculate in module __main__:\n",
      "\n",
      "circle_calculate(radius, is_area)\n",
      "    依據輸入的半徑與 is_area 參數，計算圓形的面積或周長\n",
      "\n",
      "28.27431\n",
      "18.849539999999998\n"
     ]
    }
   ],
   "source": [
    "# 定義自訂函數\n",
    "def circle_calculate(radius, is_area):\n",
    "    '''\n",
    "    依據輸入的半徑與 is_area 參數，計算圓形的面積或周長\n",
    "    '''\n",
    "    pi = 3.14159\n",
    "    circle_area = pi * radius**2\n",
    "    circle_circum = 2 * pi * radius\n",
    "    if is_area == True:\n",
    "        return circle_area\n",
    "    else:\n",
    "        return circle_circum\n",
    "\n",
    "# 呼叫自訂函數\n",
    "help(circle_calculate) # 查詢自訂函數\n",
    "my_radius = 3\n",
    "print(circle_calculate(my_radius, is_area = True)) # 指定參數回傳面積\n",
    "print(circle_calculate(my_radius, is_area = False)) # 指定參數回傳周長"
   ]
  },
  {
   "cell_type": "markdown",
   "metadata": {
    "slideshow": {
     "slide_type": "subslide"
    }
   },
   "source": [
    "## 隨堂練習\n",
    "\n",
    "- 給 `is_area` 一個預設值 `True`，預設計算圓形的面積"
   ]
  }
 ],
 "metadata": {
  "celltoolbar": "Slideshow",
  "kernelspec": {
   "display_name": "Python 3",
   "language": "python",
   "name": "python3"
  },
  "language_info": {
   "codemirror_mode": {
    "name": "ipython",
    "version": 3
   },
   "file_extension": ".py",
   "mimetype": "text/x-python",
   "name": "python",
   "nbconvert_exporter": "python",
   "pygments_lexer": "ipython3",
   "version": "3.6.0"
  }
 },
 "nbformat": 4,
 "nbformat_minor": 1
}
