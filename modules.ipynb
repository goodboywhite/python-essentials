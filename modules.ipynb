{
 "cells": [
  {
   "cell_type": "markdown",
   "metadata": {
    "slideshow": {
     "slide_type": "slide"
    }
   },
   "source": [
    "# 模組\n",
    "\n",
    "## 郭耀仁"
   ]
  },
  {
   "cell_type": "markdown",
   "metadata": {
    "slideshow": {
     "slide_type": "slide"
    }
   },
   "source": [
    "## 問題點\n",
    "\n",
    "- 不同的事務用不同的函數處理\n",
    "- 該用什麼方式組織這些函數呢？"
   ]
  },
  {
   "cell_type": "markdown",
   "metadata": {
    "slideshow": {
     "slide_type": "subslide"
    }
   },
   "source": [
    "## 什麼是模組\n",
    "\n",
    "- 將多個函數包裝在一個 `.py` 檔案中\n",
    "- 使用 `import` 這個指令就可以完成多個函數的定義"
   ]
  },
  {
   "cell_type": "markdown",
   "metadata": {
    "slideshow": {
     "slide_type": "subslide"
    }
   },
   "source": [
    "## `random` 模組\n",
    "\n",
    "- 記得我們曾在 while 迴圈章節引入過一個 `choice` 函數嗎？\n",
    "- 讓我們打開 `random.py` 這個檔案看一看"
   ]
  },
  {
   "cell_type": "markdown",
   "metadata": {
    "slideshow": {
     "slide_type": "subslide"
    }
   },
   "source": [
    "## 從命令列執行 Python 程式\n",
    "\n",
    "- 不需要傳入參數\n",
    "- 需要傳入參數：\n",
    "  - 利用 `sys` 模組中的 `argv` 屬性"
   ]
  },
  {
   "cell_type": "code",
   "execution_count": 1,
   "metadata": {
    "collapsed": true,
    "slideshow": {
     "slide_type": "subslide"
    }
   },
   "outputs": [],
   "source": [
    "# player.py ---------\n",
    "def get_favorite_players(x):\n",
    "    \"\"\"\n",
    "    列出你最愛的籃球員\n",
    "    \"\"\"\n",
    "    print(\"Here are my favorite players:\")\n",
    "    for player in x:\n",
    "        print(\"- \" + player)"
   ]
  },
  {
   "cell_type": "markdown",
   "metadata": {
    "slideshow": {
     "slide_type": "subslide"
    }
   },
   "source": [
    "```python\n",
    "import player\n",
    "\n",
    "player.get_favorite_players(['Hakeem Olajuwon', 'Kevin Garnett', 'Paul Pierce', 'Michael Jordan', 'Steve Nash'])\n",
    "```"
   ]
  },
  {
   "cell_type": "markdown",
   "metadata": {
    "slideshow": {
     "slide_type": "subslide"
    }
   },
   "source": [
    "## 引入模組中的特定函數\n",
    "\n",
    "```python\n",
    "from player import get_favorite_players\n",
    "\n",
    "get_favorite_players(['Hakeem Olajuwon', 'Kevin Garnett', 'Paul Pierce', 'Michael Jordan', 'Steve Nash'])\n",
    "```"
   ]
  },
  {
   "cell_type": "markdown",
   "metadata": {
    "slideshow": {
     "slide_type": "subslide"
    }
   },
   "source": [
    "## 引入模組之後更改名稱\n",
    "\n",
    "```python\n",
    "import player as p\n",
    "\n",
    "p.get_favorite_players(['Hakeem Olajuwon', 'Kevin Garnett', 'Paul Pierce', 'Michael Jordan', 'Steve Nash'])\n",
    "```"
   ]
  },
  {
   "cell_type": "markdown",
   "metadata": {
    "slideshow": {
     "slide_type": "subslide"
    }
   },
   "source": [
    "## 隨堂練習\n",
    "\n",
    "- 建立一個模組 `bmi.py`\n",
    "- 在該模組中定義一個函數 `get_bmi(height, weight)`\n",
    "- 載入模組並成功呼叫 `get_bmi` 函數"
   ]
  },
  {
   "cell_type": "markdown",
   "metadata": {
    "slideshow": {
     "slide_type": "slide"
    }
   },
   "source": [
    "## 套件\n",
    "\n",
    "- 套件\n",
    "    - 模組\n",
    "        - 函數"
   ]
  },
  {
   "cell_type": "markdown",
   "metadata": {
    "slideshow": {
     "slide_type": "subslide"
    }
   },
   "source": [
    "## 套件\n",
    "\n",
    "- 多個功能相關的模組可以組織成一個套件\n",
    "- 建立一個套件：statspy\n",
    "- 在這個資料夾中新增三個檔案：\n",
    "    - \\_\\_init\\_\\_.py（空白）\n",
    "    - sum.py\n",
    "    - mean.py"
   ]
  },
  {
   "cell_type": "markdown",
   "metadata": {
    "slideshow": {
     "slide_type": "slide"
    }
   },
   "source": [
    "## 上架到 PyPi\n",
    "\n",
    "- [PyPI — the Python Package Index](https://pypi.python.org/pypi)"
   ]
  },
  {
   "cell_type": "markdown",
   "metadata": {
    "slideshow": {
     "slide_type": "subslide"
    }
   },
   "source": [
    "## 註冊帳號\n",
    "\n",
    "- 測試環境：<https://test.pypi.org/account/register/>\n",
    "- 正式環境：<https://pypi.org/account/register/>"
   ]
  },
  {
   "cell_type": "markdown",
   "metadata": {
    "slideshow": {
     "slide_type": "subslide"
    }
   },
   "source": [
    "## 在家目錄建立 `.pypirc` 檔案\n",
    "\n",
    "```\n",
    "# .pypirc\n",
    "[distutils]\n",
    "index-servers =\n",
    "  pypi\n",
    "  pypitest\n",
    "\n",
    "[pypi]\n",
    "repository=https://pypi.python.org/pypi\n",
    "username=your_username\n",
    "password=your_password\n",
    "\n",
    "[pypitest]\n",
    "repository=https://testpypi.python.org/pypi\n",
    "username=your_username\n",
    "password=your_password\n",
    "```"
   ]
  },
  {
   "cell_type": "markdown",
   "metadata": {
    "slideshow": {
     "slide_type": "subslide"
    }
   },
   "source": [
    "## 套件的結構\n",
    "\n",
    "- root-dir/   # 任意資料夾名稱\n",
    "    - setup.py(必要)\n",
    "    - setup.cfg(必要)\n",
    "    - LICENSE.txt\n",
    "    - README.md\n",
    "    - casino/(必要)\n",
    "        - \\_\\_init\\_\\_.py\n",
    "        - dice.py\n",
    "        - card.py"
   ]
  },
  {
   "cell_type": "markdown",
   "metadata": {
    "collapsed": true,
    "slideshow": {
     "slide_type": "subslide"
    }
   },
   "source": [
    "```python\n",
    "# setup.py\n",
    "from distutils.core import setup\n",
    "setup(\n",
    "  name = 'mypackage',\n",
    "  packages = ['mypackage'], # 與前一個值的名稱相同\n",
    "  version = '0.1',\n",
    "  description = 'A random test lib',\n",
    "  author = 'Luke Skywalker',\n",
    "  author_email = 'lukeskywalker@gmail.com',\n",
    "  url = 'https://github.com/lukeskywalker/mypackage',\n",
    "  download_url = 'https://github.com/lukeskywalker/mypackage/archive/0.1.tar.gz',\n",
    "  keywords = ['testing', 'logging', 'example'], # arbitrary keywords\n",
    "  classifiers = [],\n",
    ")\n",
    "```"
   ]
  },
  {
   "cell_type": "markdown",
   "metadata": {
    "slideshow": {
     "slide_type": "subslide"
    }
   },
   "source": [
    "```\n",
    "# setup.cfg\n",
    "[metadata]\n",
    "description-file = README.md\n",
    "```"
   ]
  },
  {
   "cell_type": "markdown",
   "metadata": {
    "slideshow": {
     "slide_type": "subslide"
    }
   },
   "source": [
    "## 上傳至 PyPI 測試環境\n",
    "\n",
    "```\n",
    "python setup.py sdist upload -r pypitest\n",
    "```"
   ]
  },
  {
   "cell_type": "markdown",
   "metadata": {
    "slideshow": {
     "slide_type": "subslide"
    }
   },
   "source": [
    "## 上傳至 PyPI 正式環境\n",
    "\n",
    "```\n",
    "python setup.py sdist upload -r pypi\n",
    "```"
   ]
  },
  {
   "cell_type": "markdown",
   "metadata": {
    "slideshow": {
     "slide_type": "slide"
    }
   },
   "source": [
    "## 作業 4\n",
    "\n",
    "- 在本機建立一個套件：casino\n",
    "- 這個資料夾中新增三個檔案：\n",
    "    - \\_\\_init\\_\\_.py（空白）\n",
    "    - dice.py\n",
    "    - poker.py\n",
    "- dice 模組中定義一個 `roll_a_dice` 函數，可以回傳擲一粒骰子的點數\n",
    "- poker 模組中定義一個 `deal_a_card` 函數，可以回傳發一張撲克牌的花色點數"
   ]
  },
  {
   "cell_type": "markdown",
   "metadata": {
    "slideshow": {
     "slide_type": "subslide"
    }
   },
   "source": [
    "```python\n",
    "from casino import dice, poker\n",
    "\n",
    "print(dice.roll_a_dice())\n",
    "print(poker.deal_a_card())\n",
    "\n",
    "## 6\n",
    "## 'Diamond Ace'\n",
    "```"
   ]
  }
 ],
 "metadata": {
  "celltoolbar": "Slideshow",
  "kernelspec": {
   "display_name": "Python 3",
   "language": "python",
   "name": "python3"
  },
  "language_info": {
   "codemirror_mode": {
    "name": "ipython",
    "version": 3
   },
   "file_extension": ".py",
   "mimetype": "text/x-python",
   "name": "python",
   "nbconvert_exporter": "python",
   "pygments_lexer": "ipython3",
   "version": "3.6.0"
  }
 },
 "nbformat": 4,
 "nbformat_minor": 2
}
