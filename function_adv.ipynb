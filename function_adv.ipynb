{
 "cells": [
  {
   "cell_type": "markdown",
   "metadata": {
    "slideshow": {
     "slide_type": "slide"
    }
   },
   "source": [
    "# 自訂函數\n",
    "\n",
    "## 郭耀仁"
   ]
  },
  {
   "cell_type": "markdown",
   "metadata": {
    "slideshow": {
     "slide_type": "slide"
    }
   },
   "source": [
    "## 自訂函數\n",
    "\n",
    "- 自訂函數的結構\n",
    "\n",
    "```python\n",
    "def function_name(輸入1, 輸入2, 參數1, 參數2, ...):\n",
    "    \"\"\"\n",
    "    Docstrings\n",
    "    \"\"\"\n",
    "    # 做些什麼事\n",
    "    return 輸出\n",
    "```"
   ]
  },
  {
   "cell_type": "markdown",
   "metadata": {
    "slideshow": {
     "slide_type": "subslide"
    }
   },
   "source": [
    "## 包裝成函數\n",
    "\n",
    "- 總和\n",
    "- 個數\n",
    "- 平均數\n",
    "- 樣本標準差"
   ]
  },
  {
   "cell_type": "code",
   "execution_count": 1,
   "metadata": {
    "collapsed": true,
    "slideshow": {
     "slide_type": "subslide"
    }
   },
   "outputs": [],
   "source": [
    "def my_sum(x):\n",
    "    \"\"\"\n",
    "    計算數列的總和\n",
    "    \"\"\"\n",
    "    summation = 0\n",
    "    for i in x:\n",
    "        summation += i\n",
    "    return summation"
   ]
  },
  {
   "cell_type": "code",
   "execution_count": 2,
   "metadata": {
    "collapsed": true,
    "slideshow": {
     "slide_type": "subslide"
    }
   },
   "outputs": [],
   "source": [
    "def my_len(x):\n",
    "    \"\"\"\n",
    "    計算數列的長度\n",
    "    \"\"\"\n",
    "    length = 0\n",
    "    for i in x:\n",
    "        length += 1\n",
    "    return length"
   ]
  },
  {
   "cell_type": "markdown",
   "metadata": {
    "slideshow": {
     "slide_type": "subslide"
    }
   },
   "source": [
    "## 包裝成函數：隨堂練習\n",
    "\n",
    "- 判定是否為質數"
   ]
  },
  {
   "cell_type": "markdown",
   "metadata": {
    "slideshow": {
     "slide_type": "subslide"
    }
   },
   "source": [
    "## 包裝成函數\n",
    "\n",
    "- 交換排序\n",
    "- 最大值\n",
    "- 最小值\n",
    "- 中位數"
   ]
  },
  {
   "cell_type": "code",
   "execution_count": 3,
   "metadata": {
    "collapsed": true,
    "slideshow": {
     "slide_type": "subslide"
    }
   },
   "outputs": [],
   "source": [
    "def my_sort(x):\n",
    "    \"\"\"\n",
    "    將數列遞增排序\n",
    "    \"\"\"\n",
    "    # 遞增排序\n",
    "    for i in range(0, len(x) - 1):\n",
    "        for j in range(i + 1, len(x)):\n",
    "            # 如果前一個數字比後一個數字大則交換位置\n",
    "            if x[i] > x[j]:\n",
    "                x[i], x[j] = x[j], x[i]\n",
    "    \n",
    "    return x"
   ]
  },
  {
   "cell_type": "markdown",
   "metadata": {
    "slideshow": {
     "slide_type": "subslide"
    }
   },
   "source": [
    "## 包裝成函數：隨堂練習\n",
    "\n",
    "- [Fibonacci](https://en.wikipedia.org/wiki/Fibonacci_number)"
   ]
  },
  {
   "cell_type": "markdown",
   "metadata": {
    "slideshow": {
     "slide_type": "subslide"
    }
   },
   "source": [
    "## 錯誤處理\n",
    "\n",
    "- 使用 `try`, `except` 的流程控制進行錯誤處理"
   ]
  },
  {
   "cell_type": "code",
   "execution_count": 4,
   "metadata": {
    "collapsed": true,
    "slideshow": {
     "slide_type": "-"
    }
   },
   "outputs": [],
   "source": [
    "def squared(x):\n",
    "    \"\"\"\n",
    "    將輸入的數字平方\n",
    "    \"\"\"\n",
    "    try:\n",
    "        ans = x**2\n",
    "        return ans\n",
    "    except:\n",
    "        return \"請輸入一個數字\""
   ]
  },
  {
   "cell_type": "markdown",
   "metadata": {
    "slideshow": {
     "slide_type": "subslide"
    }
   },
   "source": [
    "## 錯誤處理\n",
    "\n",
    "- 在 `except` 語法後面連接錯誤的種類"
   ]
  },
  {
   "cell_type": "code",
   "execution_count": 5,
   "metadata": {
    "collapsed": true
   },
   "outputs": [],
   "source": [
    "def divide(x, y):\n",
    "    \"\"\"\n",
    "    將輸入的兩個數字相除\n",
    "    \"\"\"\n",
    "    try:\n",
    "        ans = x / y\n",
    "        return ans\n",
    "    except ZeroDivisionError:\n",
    "        return \"分母不得為零\"\n",
    "    except:\n",
    "        return \"請輸入數字\""
   ]
  },
  {
   "cell_type": "markdown",
   "metadata": {
    "slideshow": {
     "slide_type": "subslide"
    }
   },
   "source": [
    "## lambda 函數\n",
    "\n",
    "- 不需要 `def`、`return` \n",
    "- 也不需要為函數取名"
   ]
  },
  {
   "cell_type": "markdown",
   "metadata": {
    "slideshow": {
     "slide_type": "subslide"
    }
   },
   "source": [
    "## lambda 函數\n",
    "\n",
    "- 搭配 `filter()` 函數"
   ]
  },
  {
   "cell_type": "code",
   "execution_count": 6,
   "metadata": {},
   "outputs": [
    {
     "data": {
      "text/plain": [
       "<filter at 0x10f835c88>"
      ]
     },
     "execution_count": 6,
     "metadata": {},
     "output_type": "execute_result"
    }
   ],
   "source": [
    "filter(lambda x : x % 2 == 1, range(1, 11))"
   ]
  },
  {
   "cell_type": "markdown",
   "metadata": {
    "slideshow": {
     "slide_type": "subslide"
    }
   },
   "source": [
    "## lambda 函數\n",
    "\n",
    "- 搭配 `map()` 函數"
   ]
  },
  {
   "cell_type": "code",
   "execution_count": 7,
   "metadata": {},
   "outputs": [
    {
     "data": {
      "text/plain": [
       "<map at 0x10f835e10>"
      ]
     },
     "execution_count": 7,
     "metadata": {},
     "output_type": "execute_result"
    }
   ],
   "source": [
    "map(lambda x : x**2, range(1, 11))"
   ]
  },
  {
   "cell_type": "markdown",
   "metadata": {
    "slideshow": {
     "slide_type": "subslide"
    }
   },
   "source": [
    "## 到目前，需要用 list() 才能看到輸出的函數\n",
    "\n",
    "- `range()`\n",
    "- `filter()`\n",
    "- `map()`\n",
    "- `enumerate()`\n",
    "- `zip()`"
   ]
  },
  {
   "cell_type": "markdown",
   "metadata": {
    "slideshow": {
     "slide_type": "slide"
    }
   },
   "source": [
    "## 作業 3\n",
    "\n",
    "寫一個函數 count_primes(x, y) 計算 x 到 y 之間有幾個質數（包含 x, y）\n",
    "\n",
    "```python\n",
    "count_primes(3, 7)\n",
    "## 3\n",
    "count_primes(3, 9)\n",
    "## 3\n",
    "count_primes(3, 13)\n",
    "## 5\n",
    "```"
   ]
  }
 ],
 "metadata": {
  "celltoolbar": "Slideshow",
  "kernelspec": {
   "display_name": "Python 3",
   "language": "python",
   "name": "python3"
  },
  "language_info": {
   "codemirror_mode": {
    "name": "ipython",
    "version": 3
   },
   "file_extension": ".py",
   "mimetype": "text/x-python",
   "name": "python",
   "nbconvert_exporter": "python",
   "pygments_lexer": "ipython3",
   "version": "3.6.0"
  }
 },
 "nbformat": 4,
 "nbformat_minor": 2
}
