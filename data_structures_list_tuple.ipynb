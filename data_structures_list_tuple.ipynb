{
 "cells": [
  {
   "cell_type": "markdown",
   "metadata": {
    "slideshow": {
     "slide_type": "slide"
    }
   },
   "source": [
    "# 資料結構：list、tuple\n",
    "\n",
    "## 郭耀仁"
   ]
  },
  {
   "cell_type": "markdown",
   "metadata": {
    "slideshow": {
     "slide_type": "slide"
    }
   },
   "source": [
    "## 資料結構\n",
    "\n",
    "- From ingredients to collections\n",
    "- 這句話是什麼意思？\n",
    "- 資料結構是不同的變數存放方法"
   ]
  },
  {
   "cell_type": "markdown",
   "metadata": {
    "slideshow": {
     "slide_type": "subslide"
    }
   },
   "source": [
    "## 資料結構\n",
    "\n",
    "- 我們可以用兩種方法儲存最喜歡的籃球員\n",
    "\n",
    "```python\n",
    "# 方法一\n",
    "favorite_pg = \"Steve Nash\"\n",
    "favorite_sg = \"Michael Jordan\"\n",
    "favorite_sf = \"Paul Pierce\"\n",
    "favorite_pf = \"Kevin Garnett\"\n",
    "favorite_c = \"Hakeem Olajuwon\"\n",
    "\n",
    "# 方法二\n",
    "favorite_players = ['Hakeem Olajuwon', 'Kevin Garnett', 'Paul Pierce', 'Michael Jordan', 'Steve Nash']\n",
    "```"
   ]
  },
  {
   "cell_type": "markdown",
   "metadata": {
    "slideshow": {
     "slide_type": "slide"
    }
   },
   "source": [
    "## 我們會講哪些資料結構\n",
    "\n",
    "- Python 原生資料結構\n",
    "    - list\n",
    "    - tuple\n",
    "    - dict\n",
    "    - set"
   ]
  },
  {
   "cell_type": "markdown",
   "metadata": {
    "slideshow": {
     "slide_type": "slide"
    }
   },
   "source": [
    "## list\n",
    "\n",
    "- 建立時使用 `[]` 中括號\n",
    "- 可以容納不同的變數類型（str, int, float, bool, complex）\n",
    "- Python 的索引值從 0 開始算\n",
    "\n",
    "```python\n",
    "team_name = \"Chicago Bulls\"\n",
    "wins = 72\n",
    "losses = 10\n",
    "win_percentage = wins / (wins + losses)\n",
    "is_champion = True\n",
    "\n",
    "chicago_bulls = [team_name, wins, losses, win_percentage, is_champion]\n",
    "```"
   ]
  },
  {
   "cell_type": "markdown",
   "metadata": {
    "slideshow": {
     "slide_type": "subslide"
    }
   },
   "source": [
    "## 隨堂練習\n",
    "\n",
    "- 建立一個 list 叫做 friends_list 儲存這些資訊\n",
    "\n",
    "```python\n",
    "genre = \"SitCom\"\n",
    "seasons = 10\n",
    "episodes = 236\n",
    "stars = [\"Jennifer Aniston\", \"Courteney Cox\", \"Lisa Kudrow\",\n",
    "\"Matt LeBlanc\", \"Matthew Perry\", \"David Schwimmer\"]\n",
    "```"
   ]
  },
  {
   "cell_type": "markdown",
   "metadata": {
    "slideshow": {
     "slide_type": "subslide"
    }
   },
   "source": [
    "## 隨堂練習\n",
    "\n",
    "- 建立好以後，請將季數與 \"Matthew Perry\" 印出\n",
    "\n",
    "```python\n",
    "genre = \"SitCom\"\n",
    "seasons = 10\n",
    "episodes = 236\n",
    "stars = [\"Jennifer Aniston\", \"Courteney Cox\", \"Lisa Kudrow\",\n",
    "\"Matt LeBlanc\", \"Matthew Perry\", \"David Schwimmer\"]\n",
    "\n",
    "friends_list = ___\n",
    "print(___)\n",
    "print(___)\n",
    "```"
   ]
  },
  {
   "cell_type": "markdown",
   "metadata": {
    "slideshow": {
     "slide_type": "subslide"
    }
   },
   "source": [
    "## More about list\n",
    "\n",
    "- 試試看索引值 `-1`"
   ]
  },
  {
   "cell_type": "code",
   "execution_count": 1,
   "metadata": {},
   "outputs": [
    {
     "name": "stdout",
     "output_type": "stream",
     "text": [
      "My favorite point guard is Steve Nash.\n"
     ]
    }
   ],
   "source": [
    "favorite_players = ['Hakeem Olajuwon', 'Kevin Garnett', 'Paul Pierce', 'Michael Jordan', 'Steve Nash']\n",
    "print(\"My favorite point guard is {}.\".format(favorite_players[-1]))"
   ]
  },
  {
   "cell_type": "markdown",
   "metadata": {
    "slideshow": {
     "slide_type": "subslide"
    }
   },
   "source": [
    "## More about list\n",
    "\n",
    "- 試試看索引值 `[1:]`\n",
    "- 試試看索引值 `[:2]`\n",
    "- 試試看索引值 `[::2]`"
   ]
  },
  {
   "cell_type": "markdown",
   "metadata": {
    "slideshow": {
     "slide_type": "subslide"
    }
   },
   "source": [
    "## More about list\n",
    "\n",
    "- 更改 list 中的元素"
   ]
  },
  {
   "cell_type": "code",
   "execution_count": 2,
   "metadata": {},
   "outputs": [
    {
     "name": "stdout",
     "output_type": "stream",
     "text": [
      "[\"Shaquille O'Neal\", 'Kevin Garnett', 'Paul Pierce', 'Michael Jordan', 'Steve Nash']\n"
     ]
    }
   ],
   "source": [
    "favorite_players = ['Hakeem Olajuwon', 'Kevin Garnett', 'Paul Pierce', 'Michael Jordan', 'Steve Nash']\n",
    "favorite_players[0] = 'Shaquille O\\'Neal'\n",
    "print(favorite_players)"
   ]
  },
  {
   "cell_type": "markdown",
   "metadata": {
    "slideshow": {
     "slide_type": "subslide"
    }
   },
   "source": [
    "## More about list\n",
    "\n",
    "- 增加 list 中的元素\n",
    "    - `.append()`\n",
    "    - `.insert()`"
   ]
  },
  {
   "cell_type": "code",
   "execution_count": 3,
   "metadata": {},
   "outputs": [
    {
     "name": "stdout",
     "output_type": "stream",
     "text": [
      "['Hakeem Olajuwon', 'Kevin Garnett', 'Paul Pierce', 'Michael Jordan', 'Steve Nash', 'Scottie Pippen']\n",
      "[\"Shaquille O'Neal\", 'Hakeem Olajuwon', 'Kevin Garnett', 'Paul Pierce', 'Michael Jordan', 'Steve Nash', 'Scottie Pippen']\n"
     ]
    }
   ],
   "source": [
    "favorite_players = ['Hakeem Olajuwon', 'Kevin Garnett', 'Paul Pierce', 'Michael Jordan', 'Steve Nash']\n",
    "favorite_players.append('Scottie Pippen')\n",
    "print(favorite_players)\n",
    "favorite_players.insert(0, 'Shaquille O\\'Neal')\n",
    "print(favorite_players)"
   ]
  },
  {
   "cell_type": "markdown",
   "metadata": {
    "slideshow": {
     "slide_type": "subslide"
    }
   },
   "source": [
    "## More about list\n",
    "\n",
    "- 移除 list 中的元素\n",
    "    - `del`"
   ]
  },
  {
   "cell_type": "code",
   "execution_count": 4,
   "metadata": {},
   "outputs": [
    {
     "name": "stdout",
     "output_type": "stream",
     "text": [
      "['Kevin Garnett', 'Paul Pierce', 'Michael Jordan', 'Steve Nash']\n"
     ]
    }
   ],
   "source": [
    "favorite_players = ['Hakeem Olajuwon', 'Kevin Garnett', 'Paul Pierce', 'Michael Jordan', 'Steve Nash']\n",
    "del favorite_players[0]\n",
    "print(favorite_players)"
   ]
  },
  {
   "cell_type": "markdown",
   "metadata": {
    "slideshow": {
     "slide_type": "subslide"
    }
   },
   "source": [
    "## More about list\n",
    "\n",
    "- 移除 list 中的元素\n",
    "    - `.pop()`"
   ]
  },
  {
   "cell_type": "code",
   "execution_count": 5,
   "metadata": {},
   "outputs": [
    {
     "name": "stdout",
     "output_type": "stream",
     "text": [
      "['Hakeem Olajuwon', 'Kevin Garnett', 'Paul Pierce', 'Michael Jordan']\n",
      "My favorite point guard is Steve Nash.\n",
      "My favorite power forward is Kevin Garnett.\n"
     ]
    }
   ],
   "source": [
    "favorite_players = ['Hakeem Olajuwon', 'Kevin Garnett', 'Paul Pierce', 'Michael Jordan', 'Steve Nash']\n",
    "favorite_pg = favorite_players.pop()\n",
    "print(favorite_players)\n",
    "print(\"My favorite point guard is {}.\".format(favorite_pg))\n",
    "favorite_pf = favorite_players.pop(1)\n",
    "print(\"My favorite power forward is {}.\".format(favorite_pf))"
   ]
  },
  {
   "cell_type": "markdown",
   "metadata": {
    "slideshow": {
     "slide_type": "subslide"
    }
   },
   "source": [
    "## More about list\n",
    "\n",
    "- 移除 list 中的元素\n",
    "    - `.remove()`"
   ]
  },
  {
   "cell_type": "code",
   "execution_count": 6,
   "metadata": {},
   "outputs": [
    {
     "name": "stdout",
     "output_type": "stream",
     "text": [
      "['Hakeem Olajuwon', 'Kevin Garnett', 'Michael Jordan', 'Steve Nash']\n"
     ]
    }
   ],
   "source": [
    "favorite_players = ['Hakeem Olajuwon', 'Kevin Garnett', 'Paul Pierce', 'Michael Jordan', 'Steve Nash']\n",
    "favorite_players.remove('Paul Pierce')\n",
    "print(favorite_players)"
   ]
  },
  {
   "cell_type": "markdown",
   "metadata": {
    "slideshow": {
     "slide_type": "subslide"
    }
   },
   "source": [
    "## More about list\n",
    "\n",
    "- 排序 list\n",
    "    - `.sort()` 方法\n",
    "    - `sorted()` 函數"
   ]
  },
  {
   "cell_type": "code",
   "execution_count": 7,
   "metadata": {},
   "outputs": [
    {
     "name": "stdout",
     "output_type": "stream",
     "text": [
      "['Kevin Garnett', 'Michael Jordan', 'Paul Pierce', \"Shaquille O'Neal\", 'Steve Nash']\n"
     ]
    }
   ],
   "source": [
    "# Sorting a list permanently\n",
    "favorite_players = ['Shaquille O\\'Neal', 'Kevin Garnett', 'Paul Pierce', 'Michael Jordan', 'Steve Nash']\n",
    "favorite_players.sort()\n",
    "print(favorite_players)"
   ]
  },
  {
   "cell_type": "code",
   "execution_count": 8,
   "metadata": {
    "slideshow": {
     "slide_type": "subslide"
    }
   },
   "outputs": [
    {
     "name": "stdout",
     "output_type": "stream",
     "text": [
      "['Kevin Garnett', 'Michael Jordan', 'Paul Pierce', \"Shaquille O'Neal\", 'Steve Nash']\n",
      "[\"Shaquille O'Neal\", 'Kevin Garnett', 'Paul Pierce', 'Michael Jordan', 'Steve Nash']\n"
     ]
    }
   ],
   "source": [
    "# Sorting a list temporarily\n",
    "favorite_players = ['Shaquille O\\'Neal', 'Kevin Garnett', 'Paul Pierce', 'Michael Jordan', 'Steve Nash']\n",
    "print(sorted(favorite_players))\n",
    "print(favorite_players)"
   ]
  },
  {
   "cell_type": "markdown",
   "metadata": {
    "slideshow": {
     "slide_type": "subslide"
    }
   },
   "source": [
    "## More about list\n",
    "\n",
    "- 排序 list\n",
    "    - `.reverse()`"
   ]
  },
  {
   "cell_type": "code",
   "execution_count": 9,
   "metadata": {},
   "outputs": [
    {
     "name": "stdout",
     "output_type": "stream",
     "text": [
      "['Steve Nash', 'Michael Jordan', 'Paul Pierce', 'Kevin Garnett', \"Shaquille O'Neal\"]\n"
     ]
    }
   ],
   "source": [
    "favorite_players = ['Shaquille O\\'Neal', 'Kevin Garnett', 'Paul Pierce', 'Michael Jordan', 'Steve Nash']\n",
    "favorite_players.reverse()\n",
    "print(favorite_players)"
   ]
  },
  {
   "cell_type": "markdown",
   "metadata": {
    "slideshow": {
     "slide_type": "subslide"
    }
   },
   "source": [
    "## More about list\n",
    "\n",
    "- 排序 list\n",
    "    - 試試看索引值 `[::-1]`"
   ]
  },
  {
   "cell_type": "markdown",
   "metadata": {
    "slideshow": {
     "slide_type": "subslide"
    }
   },
   "source": [
    "## More about list\n",
    "\n",
    "- list 的長度（元素個數）\n",
    "    - `len()` 函數"
   ]
  },
  {
   "cell_type": "code",
   "execution_count": 10,
   "metadata": {},
   "outputs": [
    {
     "name": "stdout",
     "output_type": "stream",
     "text": [
      "5\n"
     ]
    }
   ],
   "source": [
    "favorite_players = ['Hakeem Olajuwon', 'Kevin Garnett', 'Paul Pierce', 'Michael Jordan', 'Steve Nash']\n",
    "print(len(favorite_players))"
   ]
  },
  {
   "cell_type": "markdown",
   "metadata": {
    "slideshow": {
     "slide_type": "subslide"
    }
   },
   "source": [
    "## More about list\n",
    "\n",
    "- 創造數列：`range()` 函數"
   ]
  },
  {
   "cell_type": "code",
   "execution_count": 11,
   "metadata": {
    "collapsed": true
   },
   "outputs": [],
   "source": [
    "num_list = range(5)"
   ]
  },
  {
   "cell_type": "markdown",
   "metadata": {
    "slideshow": {
     "slide_type": "slide"
    }
   },
   "source": [
    "## tuple\n",
    "\n",
    "- 跟 list 很像，但是我們不能新增，刪除或者更新 tuple 的元素\n",
    "- 建立時使用 `()` 小括號或者使用 `tuple()` 函數轉換既有的 list\n",
    "\n",
    "```python\n",
    "team_name = \"Chicago Bulls\"\n",
    "wins = 72\n",
    "losses = 10\n",
    "win_percentage = wins / (wins + losses)\n",
    "is_champion = True\n",
    "\n",
    "chicago_bulls_list = [team_name, wins, losses, win_percentage, is_champion]\n",
    "chicago_bulls_tuple = (team_name, wins, losses, win_percentage, is_champion)\n",
    "# chicago_bulls_tuple = tuple(chicago_bulls_list)\n",
    "```"
   ]
  },
  {
   "cell_type": "markdown",
   "metadata": {
    "slideshow": {
     "slide_type": "subslide"
    }
   },
   "source": [
    "## 隨堂練習\n",
    "\n",
    "- 請同學使用 `.append()` 的方法為 list 與 tuple 加入元素 `season = \"1995-96\"`\n",
    "\n",
    "```python\n",
    "season = \"1995-96\"\n",
    "chicago_bulls_list.append(season)\n",
    "```"
   ]
  }
 ],
 "metadata": {
  "celltoolbar": "Slideshow",
  "kernelspec": {
   "display_name": "Python 3",
   "language": "python",
   "name": "python3"
  },
  "language_info": {
   "codemirror_mode": {
    "name": "ipython",
    "version": 3
   },
   "file_extension": ".py",
   "mimetype": "text/x-python",
   "name": "python",
   "nbconvert_exporter": "python",
   "pygments_lexer": "ipython3",
   "version": "3.6.0"
  }
 },
 "nbformat": 4,
 "nbformat_minor": 1
}
