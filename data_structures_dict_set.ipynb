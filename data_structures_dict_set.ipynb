{
 "cells": [
  {
   "cell_type": "markdown",
   "metadata": {
    "slideshow": {
     "slide_type": "slide"
    }
   },
   "source": [
    "# 資料結構：dict、set\n",
    "\n",
    "## 郭耀仁"
   ]
  },
  {
   "cell_type": "markdown",
   "metadata": {
    "slideshow": {
     "slide_type": "slide"
    }
   },
   "source": [
    "## dict\n",
    "\n",
    "- 帶有鍵（key）的 list\n",
    "- 建立時使用大括號 `{}`"
   ]
  },
  {
   "cell_type": "code",
   "execution_count": 7,
   "metadata": {
    "collapsed": true
   },
   "outputs": [],
   "source": [
    "team_name = \"Chicago Bulls\"\n",
    "wins = 72\n",
    "losses = 10\n",
    "win_percentage = wins / (wins + losses)\n",
    "is_champion = True\n",
    "\n",
    "chicago_bulls = {\n",
    "    \"team_name\": team_name,\n",
    "    \"wins\": wins,\n",
    "    \"losses\": losses,\n",
    "    \"win_percentage\": win_percentage,\n",
    "    \"is_champion\": is_champion\n",
    "}"
   ]
  },
  {
   "cell_type": "markdown",
   "metadata": {
    "slideshow": {
     "slide_type": "subslide"
    }
   },
   "source": [
    "## dict\n",
    "\n",
    "- 取得 dict 中的元素\n",
    "- 使用中括號搭配鍵（key）"
   ]
  },
  {
   "cell_type": "markdown",
   "metadata": {
    "slideshow": {
     "slide_type": "subslide"
    }
   },
   "source": [
    "## dict\n",
    "\n",
    "- 增加 dict 中的元素"
   ]
  },
  {
   "cell_type": "code",
   "execution_count": 8,
   "metadata": {},
   "outputs": [
    {
     "name": "stdout",
     "output_type": "stream",
     "text": [
      "{'team_name': 'Chicago Bulls', 'wins': 72, 'losses': 10, 'win_percentage': 0.8780487804878049, 'is_champion': True, 'season': '1995-96'}\n"
     ]
    }
   ],
   "source": [
    "chicago_bulls[\"season\"] = \"1995-96\"\n",
    "print(chicago_bulls)"
   ]
  },
  {
   "cell_type": "markdown",
   "metadata": {
    "slideshow": {
     "slide_type": "subslide"
    }
   },
   "source": [
    "## dict\n",
    "\n",
    "- 更改 dict 中的元素"
   ]
  },
  {
   "cell_type": "code",
   "execution_count": 9,
   "metadata": {},
   "outputs": [
    {
     "name": "stdout",
     "output_type": "stream",
     "text": [
      "{'team_name': 'Chicago Bulls', 'wins': 72, 'losses': 10, 'win_percentage': 0.8780487804878049, 'is_champion': True, 'season': '1995-1996'}\n"
     ]
    }
   ],
   "source": [
    "chicago_bulls[\"season\"] = \"1995-1996\"\n",
    "print(chicago_bulls)"
   ]
  },
  {
   "cell_type": "markdown",
   "metadata": {
    "slideshow": {
     "slide_type": "subslide"
    }
   },
   "source": [
    "## dict 與 for 迴圈\n",
    "\n",
    "- 如果 sequence 是一個字典，會直接輸出鍵值（key）"
   ]
  },
  {
   "cell_type": "code",
   "execution_count": 1,
   "metadata": {
    "slideshow": {
     "slide_type": "subslide"
    }
   },
   "outputs": [
    {
     "name": "stdout",
     "output_type": "stream",
     "text": [
      "team_name\n",
      "wins\n",
      "losses\n",
      "win_percentage\n",
      "is_champion\n"
     ]
    }
   ],
   "source": [
    "team_name = \"Chicago Bulls\"\n",
    "wins = 72\n",
    "losses = 10\n",
    "win_percentage = wins / (wins + losses)\n",
    "is_champion = True\n",
    "\n",
    "chicago_bulls = {\n",
    "    \"team_name\": team_name,\n",
    "    \"wins\": wins,\n",
    "    \"losses\": losses,\n",
    "    \"win_percentage\": win_percentage,\n",
    "    \"is_champion\": is_champion\n",
    "}\n",
    "\n",
    "for key in chicago_bulls:\n",
    "    print(key)"
   ]
  },
  {
   "cell_type": "markdown",
   "metadata": {
    "slideshow": {
     "slide_type": "subslide"
    }
   },
   "source": [
    "## dict 與 for 迴圈\n",
    "\n",
    "- 可讀性更強的寫法"
   ]
  },
  {
   "cell_type": "code",
   "execution_count": 4,
   "metadata": {
    "slideshow": {
     "slide_type": "subslide"
    }
   },
   "outputs": [
    {
     "name": "stdout",
     "output_type": "stream",
     "text": [
      "team_name\n",
      "wins\n",
      "losses\n",
      "win_percentage\n",
      "is_champion\n",
      "=========\n",
      "Chicago Bulls\n",
      "72\n",
      "10\n",
      "0.8780487804878049\n",
      "True\n"
     ]
    }
   ],
   "source": [
    "for key in chicago_bulls.keys():\n",
    "    print(key)\n",
    "print(\"=========\")\n",
    "for value in chicago_bulls.values():\n",
    "    print(value)"
   ]
  },
  {
   "cell_type": "markdown",
   "metadata": {
    "slideshow": {
     "slide_type": "subslide"
    }
   },
   "source": [
    "## dict 與 for 迴圈\n",
    "\n",
    "- 同時取得 keys 與 values"
   ]
  },
  {
   "cell_type": "code",
   "execution_count": 6,
   "metadata": {},
   "outputs": [
    {
     "name": "stdout",
     "output_type": "stream",
     "text": [
      "team_name: Chicago Bulls\n",
      "wins: 72\n",
      "losses: 10\n",
      "win_percentage: 0.8780487804878049\n",
      "is_champion: True\n"
     ]
    }
   ],
   "source": [
    "for (key, value) in chicago_bulls.items():\n",
    "    print(\"{}: {}\".format(key, value))"
   ]
  },
  {
   "cell_type": "markdown",
   "metadata": {
    "slideshow": {
     "slide_type": "subslide"
    }
   },
   "source": [
    "## 隨堂練習\n",
    "\n",
    "- 利用以下的 dict 輸出每個人最喜歡的球員"
   ]
  },
  {
   "cell_type": "code",
   "execution_count": null,
   "metadata": {
    "collapsed": true
   },
   "outputs": [],
   "source": [
    "favorite_players = {\n",
    "    'Tony': 'Steve Nash',\n",
    "    'Sarah': 'Paul Pierce',\n",
    "    'Edward': 'Tim Duncan',\n",
    "    'Phil': 'Kobe Bryant',\n",
    "}\n",
    "# for ___ in ___:\n",
    "    # print(\"{}'s favorite player is {}\".format(___, ___))"
   ]
  },
  {
   "cell_type": "markdown",
   "metadata": {
    "slideshow": {
     "slide_type": "subslide"
    }
   },
   "source": [
    "## 巢狀 dict\n",
    "\n",
    "- `list` 中有 `dict`\n",
    "- `dict` 中的 Value 為 `list`\n",
    "- `dict` 中的 Value 為 `dict`"
   ]
  },
  {
   "cell_type": "markdown",
   "metadata": {
    "slideshow": {
     "slide_type": "slide"
    }
   },
   "source": [
    "## set\n",
    "\n",
    "- 存放唯一值（unique values）的結構\n",
    "- 建立時使用大括號 `{}`"
   ]
  },
  {
   "cell_type": "code",
   "execution_count": null,
   "metadata": {
    "collapsed": true
   },
   "outputs": [],
   "source": [
    "rgb = {\"red\", \"green\", \"blue\", \"blue\", \"green\", \"red\"}\n",
    "print(rgb)\n",
    "print(len(rgb))"
   ]
  },
  {
   "cell_type": "markdown",
   "metadata": {
    "slideshow": {
     "slide_type": "subslide"
    }
   },
   "source": [
    "## set\n",
    "\n",
    "- set 不能夠用中括號選取元素\n",
    "\n",
    "```python\n",
    "rgb = {\"red\", \"green\", \"blue\", \"blue\", \"green\", \"red\"}\n",
    "rgb[0]\n",
    "```"
   ]
  },
  {
   "cell_type": "markdown",
   "metadata": {
    "slideshow": {
     "slide_type": "slide"
    }
   },
   "source": [
    "## 作業 2\n",
    "\n",
    "- 建立一個 dict 叫做 friends_dict 儲存以下資訊\n",
    "- 建立好以後，請從 dict 中選出 10、\"Lisa Kudrow\" 與 \"Matthew Perry\"\n",
    "\n",
    "```python\n",
    "genre = \"SitCom\"\n",
    "seasons = 10\n",
    "episodes = 236\n",
    "stars = [\"Jennifer Aniston\", \"Courteney Cox\", \"Lisa Kudrow\",\n",
    "\"Matt LeBlanc\", \"Matthew Perry\", \"David Schwimmer\"]\n",
    "```"
   ]
  }
 ],
 "metadata": {
  "celltoolbar": "Slideshow",
  "kernelspec": {
   "display_name": "Python 3",
   "language": "python",
   "name": "python3"
  },
  "language_info": {
   "codemirror_mode": {
    "name": "ipython",
    "version": 3
   },
   "file_extension": ".py",
   "mimetype": "text/x-python",
   "name": "python",
   "nbconvert_exporter": "python",
   "pygments_lexer": "ipython3",
   "version": "3.6.0"
  }
 },
 "nbformat": 4,
 "nbformat_minor": 2
}
