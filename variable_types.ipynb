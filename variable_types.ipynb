{
 "cells": [
  {
   "cell_type": "markdown",
   "metadata": {
    "slideshow": {
     "slide_type": "slide"
    }
   },
   "source": [
    "# 資料型別\n",
    "\n",
    "## 郭耀仁"
   ]
  },
  {
   "cell_type": "markdown",
   "metadata": {
    "slideshow": {
     "slide_type": "slide"
    }
   },
   "source": [
    "## Getting Started"
   ]
  },
  {
   "cell_type": "markdown",
   "metadata": {
    "slideshow": {
     "slide_type": "slide"
    }
   },
   "source": [
    "## 使用 `=` 對物件賦值"
   ]
  },
  {
   "cell_type": "code",
   "execution_count": 1,
   "metadata": {
    "collapsed": true
   },
   "outputs": [],
   "source": [
    "luke = \"Luke Skywalker\""
   ]
  },
  {
   "cell_type": "markdown",
   "metadata": {
    "slideshow": {
     "slide_type": "subslide"
    }
   },
   "source": [
    "## 使用 `print()` 把物件輸出"
   ]
  },
  {
   "cell_type": "code",
   "execution_count": 2,
   "metadata": {},
   "outputs": [
    {
     "name": "stdout",
     "output_type": "stream",
     "text": [
      "LukeSkywalker\n"
     ]
    }
   ],
   "source": [
    "first_name = \"Luke\"\n",
    "last_name = \"Skywalker\"\n",
    "print(first_name + last_name)"
   ]
  },
  {
   "cell_type": "markdown",
   "metadata": {
    "slideshow": {
     "slide_type": "subslide"
    }
   },
   "source": [
    "## 利用 `#` 加入註解"
   ]
  },
  {
   "cell_type": "code",
   "execution_count": 3,
   "metadata": {},
   "outputs": [
    {
     "name": "stdout",
     "output_type": "stream",
     "text": [
      "LukeSkywalker\n"
     ]
    }
   ],
   "source": [
    "# 使用 print()\n",
    "first_name = \"Luke\"\n",
    "last_name = \"Skywalker\"\n",
    "print(first_name + last_name)"
   ]
  },
  {
   "cell_type": "markdown",
   "metadata": {
    "slideshow": {
     "slide_type": "slide"
    }
   },
   "source": [
    "## 資料型別\n",
    "\n",
    "- 數值\n",
    "    - float\n",
    "    - int\n",
    "- 布林值（bool）\n",
    "- 文字（str）"
   ]
  },
  {
   "cell_type": "markdown",
   "metadata": {
    "slideshow": {
     "slide_type": "slide"
    }
   },
   "source": [
    "## 把 Python 當作計算機\n",
    "\n",
    "|四則運算符號|意義|\n",
    "|----------|---|\n",
    "|`+`|加法|\n",
    "|`-`|減法|\n",
    "|`*`|乘法|\n",
    "|`/`|除法|\n",
    "|`**`|次方|\n",
    "|`%`|回傳餘數|\n",
    "|`//`|回傳商數|"
   ]
  },
  {
   "cell_type": "markdown",
   "metadata": {
    "slideshow": {
     "slide_type": "subslide"
    }
   },
   "source": [
    "## 賦值運算子\n",
    "\n",
    "很便利的賦值運算子：\n",
    "\n",
    "- `+=`\n",
    "- `-=`\n",
    "- `*=`\n",
    "- `/=`\n",
    "- `%=`\n",
    "- `//=`"
   ]
  },
  {
   "cell_type": "markdown",
   "metadata": {
    "slideshow": {
     "slide_type": "slide"
    }
   },
   "source": [
    "## 判斷運算符號\n",
    "\n",
    "- 布林值只有兩個值：\n",
    "    - `True`\n",
    "    - `False`\n",
    "- 可以產生布林值的判斷運算符號\n",
    "\n",
    "|判斷運算符號|作用|\n",
    "|--------|---|\n",
    "|`==`|是否等於|\n",
    "|`!=`|是否不等於|\n",
    "|`>`|是否大於|\n",
    "|`<`|是否小於|\n",
    "|`>=`|是否大於等於|\n",
    "|`<=`|是否小於等於|\n",
    "|`in`|是否包含於|\n",
    "|`not in`|是否不包含於|\n",
    "|`and`|判斷兩側的條件是否都為 `True`|\n",
    "|`or`|判斷兩側的條件是否至少有一側為 `True`|\n",
    "|`not`|將布林的 `True` 或 `False` 反轉|"
   ]
  },
  {
   "cell_type": "markdown",
   "metadata": {
    "slideshow": {
     "slide_type": "slide"
    }
   },
   "source": [
    "## 關於文字\n",
    "\n",
    "- 何時使用單引號（`'`）何時使用雙引號（`\"`）\n",
    "- 如何善用跳脫符號 `\\`\n",
    "\n",
    "```python\n",
    "McD = \"I'm loving it!\"\n",
    "print(McD)\n",
    "```"
   ]
  },
  {
   "cell_type": "markdown",
   "metadata": {
    "slideshow": {
     "slide_type": "subslide"
    }
   },
   "source": [
    "## 關於文字（2）\n",
    "\n",
    "[Friends - Joey Air Quoting](https://youtu.be/0O1z3An8CFc)"
   ]
  },
  {
   "cell_type": "markdown",
   "metadata": {
    "slideshow": {
     "slide_type": "subslide"
    }
   },
   "source": [
    "## 關於文字（3）\n",
    "\n",
    "- 帶有格式的 `print`\n",
    "    - `%s`：文字\n",
    "    - `%f`：浮點數\n",
    "    - `%i`：整數"
   ]
  },
  {
   "cell_type": "code",
   "execution_count": 4,
   "metadata": {},
   "outputs": [
    {
     "name": "stdout",
     "output_type": "stream",
     "text": [
      "圓周率是 3.141591\n",
      "圓周率是 3.14\n",
      "圓周率整數部分是 3\n",
      "圓周率是 3.1416\n"
     ]
    }
   ],
   "source": [
    "pi = 3.141591\n",
    "\n",
    "print(\"圓周率是 %s\" % pi)\n",
    "print(\"圓周率是 %.2f\" % pi)\n",
    "print(\"圓周率整數部分是 %i\" % pi)\n",
    "print(\"%s是 %.4f\" %(\"圓周率\", pi))"
   ]
  },
  {
   "cell_type": "markdown",
   "metadata": {
    "slideshow": {
     "slide_type": "subslide"
    }
   },
   "source": [
    "## 關於文字（4）\n",
    "\n",
    "- `.format()` 方法"
   ]
  },
  {
   "cell_type": "code",
   "execution_count": 5,
   "metadata": {
    "slideshow": {
     "slide_type": "-"
    }
   },
   "outputs": [
    {
     "name": "stdout",
     "output_type": "stream",
     "text": [
      "圓周率是 3.141591\n",
      "圓周率是 3.14\n",
      "圓周率整數部分是 3\n",
      "圓周率是 3.1416\n"
     ]
    }
   ],
   "source": [
    "pi = 3.141591\n",
    "\n",
    "print(\"圓周率是 {}\".format(pi))\n",
    "print(\"圓周率是 {:.2f}\".format(pi))\n",
    "print(\"圓周率整數部分是 {:.0f}\".format(pi))\n",
    "print(\"{}是 {:.4f}\".format(\"圓周率\", pi))"
   ]
  },
  {
   "cell_type": "markdown",
   "metadata": {
    "slideshow": {
     "slide_type": "subslide"
    }
   },
   "source": [
    "## 關於文字（5）\n",
    "\n",
    "- 更改大小寫的方法：\n",
    "    - `.title()`\n",
    "    - `.upper()`\n",
    "    - `.lower()`"
   ]
  },
  {
   "cell_type": "code",
   "execution_count": 6,
   "metadata": {},
   "outputs": [
    {
     "name": "stdout",
     "output_type": "stream",
     "text": [
      "Luke Skywalker\n",
      "LUKE SKYWALKER\n",
      "luke skywalker\n"
     ]
    }
   ],
   "source": [
    "luke = \"Luke skywalker\"\n",
    "print(luke.title())\n",
    "print(luke.upper())\n",
    "print(luke.lower())"
   ]
  },
  {
   "cell_type": "markdown",
   "metadata": {
    "slideshow": {
     "slide_type": "subslide"
    }
   },
   "source": [
    "## 關於文字（6）\n",
    "\n",
    "- 去除空白的方法：\n",
    "    - `.rstrip()`\n",
    "    - `.lstrip()`\n",
    "    - `.strip()`"
   ]
  },
  {
   "cell_type": "markdown",
   "metadata": {
    "slideshow": {
     "slide_type": "subslide"
    }
   },
   "source": [
    "## 使用 `type()` 來判斷資料型別\n",
    "\n",
    "|資料型別|範例|\n",
    "|-------|---|\n",
    "|float|`type(8.7)`|\n",
    "|int|`type(87)`|\n",
    "|bool|`type(8 > 7)`|\n",
    "|str|`type(\"Python\")`|"
   ]
  },
  {
   "cell_type": "markdown",
   "metadata": {
    "slideshow": {
     "slide_type": "slide"
    }
   },
   "source": [
    "## 轉換變數類型的函數\n",
    "\n",
    "- `float()`：轉換變數類型為 float\n",
    "- `int()`：轉換變數類型為 int\n",
    "- `bool()`：轉換變數類型為 bool\n",
    "- `str()`：轉換變數類型為 str"
   ]
  },
  {
   "cell_type": "code",
   "execution_count": 7,
   "metadata": {},
   "outputs": [
    {
     "ename": "TypeError",
     "evalue": "must be str, not int",
     "output_type": "error",
     "traceback": [
      "\u001b[0;31m---------------------------------------------------------------------------\u001b[0m",
      "\u001b[0;31mTypeError\u001b[0m                                 Traceback (most recent call last)",
      "\u001b[0;32m<ipython-input-7-f525f3cdb6d4>\u001b[0m in \u001b[0;36m<module>\u001b[0;34m()\u001b[0m\n\u001b[1;32m      1\u001b[0m \u001b[0mpercent\u001b[0m \u001b[0;34m=\u001b[0m \u001b[0;36m87\u001b[0m\u001b[0;34m\u001b[0m\u001b[0m\n\u001b[0;32m----> 2\u001b[0;31m \u001b[0mmessage\u001b[0m \u001b[0;34m=\u001b[0m \u001b[0;34m\"The similarity is around\"\u001b[0m \u001b[0;34m+\u001b[0m \u001b[0mpercent\u001b[0m \u001b[0;34m+\u001b[0m \u001b[0;34m\"%.\"\u001b[0m\u001b[0;34m\u001b[0m\u001b[0m\n\u001b[0m\u001b[1;32m      3\u001b[0m \u001b[0mprint\u001b[0m\u001b[0;34m(\u001b[0m\u001b[0mmessage\u001b[0m\u001b[0;34m)\u001b[0m\u001b[0;34m\u001b[0m\u001b[0m\n",
      "\u001b[0;31mTypeError\u001b[0m: must be str, not int"
     ]
    }
   ],
   "source": [
    "percent = 87\n",
    "message = \"The similarity is around\" + percent + \"%.\"\n",
    "print(message)"
   ]
  },
  {
   "cell_type": "markdown",
   "metadata": {
    "slideshow": {
     "slide_type": "subslide"
    }
   },
   "source": [
    "## 隨堂練習\n",
    "\n",
    "- 把上一張投影片的 Error 修正好"
   ]
  },
  {
   "cell_type": "markdown",
   "metadata": {
    "slideshow": {
     "slide_type": "slide"
    }
   },
   "source": [
    "## 跟 Python 2 的不同處\n",
    "\n",
    "- `print`\n",
    "- 整數（int）"
   ]
  },
  {
   "cell_type": "markdown",
   "metadata": {
    "slideshow": {
     "slide_type": "slide"
    }
   },
   "source": [
    "## 隨堂練習\n",
    "\n",
    "- 跟自己說聲嗨\n",
    "\n",
    "```python\n",
    "my_name = input(\"Let me know your name:\")\n",
    "print(\"Hi {}!\".format(___))\n",
    "# print(\"Hi %s!\" % ___)\n",
    "```"
   ]
  },
  {
   "cell_type": "markdown",
   "metadata": {
    "slideshow": {
     "slide_type": "subslide"
    }
   },
   "source": [
    "## 隨堂練習\n",
    "\n",
    "- 印出自己的幸運數字\n",
    "\n",
    "```python\n",
    "my_lucky_num = input(\"Let me know your lucky number:\")\n",
    "print(\"My lucky number is {}!\".format(___))\n",
    "# print(\"My lucky number is %s!\" % ___)\n",
    "```"
   ]
  },
  {
   "cell_type": "markdown",
   "metadata": {
    "slideshow": {
     "slide_type": "slide"
    }
   },
   "source": [
    "## 作業 0\n",
    "\n",
    "- 計算自己的 BMI\n",
    "\n",
    "$$BMI = \\frac{weight_{kg}}{height_{m}^2}$$\n",
    "\n",
    "```python\n",
    "height = input(___)\n",
    "weight = input(___)\n",
    "bmi = ___\n",
    "\n",
    "print(bmi)\n",
    "```"
   ]
  }
 ],
 "metadata": {
  "celltoolbar": "Slideshow",
  "kernelspec": {
   "display_name": "Python 3",
   "language": "python",
   "name": "python3"
  },
  "language_info": {
   "codemirror_mode": {
    "name": "ipython",
    "version": 3
   },
   "file_extension": ".py",
   "mimetype": "text/x-python",
   "name": "python",
   "nbconvert_exporter": "python",
   "pygments_lexer": "ipython3",
   "version": "3.6.0"
  }
 },
 "nbformat": 4,
 "nbformat_minor": 1
}
