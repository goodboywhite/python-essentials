{
 "cells": [
  {
   "cell_type": "markdown",
   "metadata": {
    "slideshow": {
     "slide_type": "slide"
    }
   },
   "source": [
    "# while 迴圈\n",
    "\n",
    "## 郭耀仁"
   ]
  },
  {
   "cell_type": "markdown",
   "metadata": {
    "slideshow": {
     "slide_type": "slide"
    }
   },
   "source": [
    "## 比喻\n",
    "\n",
    "- `for` 迴圈就像田徑、游泳比賽；`while` 迴圈就像桌球、網球比賽"
   ]
  },
  {
   "cell_type": "markdown",
   "metadata": {
    "slideshow": {
     "slide_type": "subslide"
    }
   },
   "source": [
    "## 結構\n",
    "\n",
    "```python\n",
    "while 條件判斷為 `True` 的時候:\n",
    "    # 做什麼事\n",
    "```"
   ]
  },
  {
   "cell_type": "markdown",
   "metadata": {
    "slideshow": {
     "slide_type": "subslide"
    }
   },
   "source": [
    "## 應用場景\n",
    "\n",
    "- 找一個整數的整數平方根"
   ]
  },
  {
   "cell_type": "markdown",
   "metadata": {
    "slideshow": {
     "slide_type": "-"
    }
   },
   "source": [
    "```python\n",
    "my_int = input(\"請輸入一個整數：\")\n",
    "my_int = int(my_int)\n",
    "square_root = 1\n",
    "while square_root**2 < my_int:\n",
    "    square_root += 1\n",
    "if square_root**2 == my_int:\n",
    "    print(\"{} 的平方根是 {} 與 {}\".format(my_int, square_root, -square_root))\n",
    "else:\n",
    "    print(\"{} 的平方根大概不是整數...\".format(my_int))\n",
    "```"
   ]
  },
  {
   "cell_type": "markdown",
   "metadata": {
    "slideshow": {
     "slide_type": "subslide"
    }
   },
   "source": [
    "## 應用場景\n",
    "\n",
    "- 找一個整數的平方根"
   ]
  },
  {
   "cell_type": "markdown",
   "metadata": {},
   "source": [
    "```python\n",
    "my_int = input(\"請輸入一個整數：\")\n",
    "my_int = int(my_int)\n",
    "op_times = 0\n",
    "square_root = 1\n",
    "increment = 0.0001\n",
    "while square_root**2 < my_int:\n",
    "    square_root += increment\n",
    "    op_times += 1\n",
    "print(\"經過 {} 次的運算，{} 的平方根大約是 {} 與 {}\".format(op_times, my_int, square_root, -square_root))\n",
    "```"
   ]
  },
  {
   "cell_type": "markdown",
   "metadata": {
    "slideshow": {
     "slide_type": "subslide"
    }
   },
   "source": [
    "## 應用場景\n",
    "\n",
    "- 投擲一枚公正的硬幣，出現六次正面才停止\n",
    "- 投擲一枚公正的骰子，出現六次六才停止"
   ]
  },
  {
   "cell_type": "markdown",
   "metadata": {
    "slideshow": {
     "slide_type": "subslide"
    }
   },
   "source": [
    "## 隨堂練習\n",
    "\n",
    "- 利用 `while` 迴圈印出：\n",
    "\n",
    "```\n",
    "2\n",
    "4\n",
    "6\n",
    "8\n",
    "10\n",
    "Goodbye!\n",
    "```"
   ]
  },
  {
   "cell_type": "markdown",
   "metadata": {
    "slideshow": {
     "slide_type": "subslide"
    }
   },
   "source": [
    "## 隨堂練習\n",
    "\n",
    "- 利用 `while` 迴圈印出：\n",
    "\n",
    "```\n",
    "Hello!\n",
    "10\n",
    "8\n",
    "6\n",
    "4\n",
    "2\n",
    "```"
   ]
  },
  {
   "cell_type": "markdown",
   "metadata": {
    "slideshow": {
     "slide_type": "subslide"
    }
   },
   "source": [
    "## 隨堂練習\n",
    "\n",
    "- 利用 while 迴圈計算出 1 + 2 + ... + `end` 的總和\n",
    "- `end` 變數由 `input()` 函數輸入"
   ]
  },
  {
   "cell_type": "markdown",
   "metadata": {
    "slideshow": {
     "slide_type": "slide"
    }
   },
   "source": [
    "## 更有效率地找到平方根\n",
    "\n",
    "- Bisection 搜尋\n",
    "- 與其從 1 開始慢慢找，不如從 1 跟 x 中間找一個 m 開始試\n",
    "    - 如果 m 平方後比 x 大，就從 1 跟 m 中間再挑一個試\n",
    "    - 假如 m 平方後比 x 小，就從 m 跟 x 中間再挑一個試\n",
    "- 一直試到差距小於某個你同意的誤差（epsilon）為止"
   ]
  },
  {
   "cell_type": "markdown",
   "metadata": {
    "slideshow": {
     "slide_type": "subslide"
    }
   },
   "source": [
    "```python\n",
    "my_int = input(\"請輸入一個整數：\")\n",
    "my_int = int(my_int)\n",
    "op_times = 0\n",
    "epsilon = 0.001\n",
    "high = my_int\n",
    "low = 1\n",
    "square_root = (high + low) / 2\n",
    "\n",
    "while abs(square_root**2 - my_int) > epsilon:\n",
    "    print(\"high = {}; low = {}; square_root = {}\".format(high, low, square_root))\n",
    "    op_times += 1\n",
    "    if square_root**2 > my_int:\n",
    "        high = square_root\n",
    "    else:\n",
    "        low = square_root\n",
    "    square_root = (high + low) / 2\n",
    "print(\"經過 {} 次的運算，{} 的平方根大約是 {} 與 {}\".format(op_times, my_int, square_root, -square_root))\n",
    "```"
   ]
  },
  {
   "cell_type": "markdown",
   "metadata": {
    "slideshow": {
     "slide_type": "subslide"
    }
   },
   "source": [
    "## 隨堂練習\n",
    "\n",
    "- 使用者心中想一個介於 0 到 100 之間的數字（`range(100)`）\n",
    "- 讓 Python 用 bisection search 來猜"
   ]
  },
  {
   "cell_type": "markdown",
   "metadata": {
    "slideshow": {
     "slide_type": "subslide"
    }
   },
   "source": [
    "```\n",
    "Please think of a number between 0 and 100!\n",
    "Is your secret number 50?\n",
    "Enter 'h' to indicate the guess is too high. Enter 'l' to indicate the guess is too low. Enter 'c' to indicate I guessed correctly. l\n",
    "Is your secret number 75?\n",
    "Enter 'h' to indicate the guess is too high. Enter 'l' to indicate the guess is too low. Enter 'c' to indicate I guessed correctly. l\n",
    "Is your secret number 87?\n",
    "Enter 'h' to indicate the guess is too high. Enter 'l' to indicate the guess is too low. Enter 'c' to indicate I guessed correctly. h\n",
    "Is your secret number 81?\n",
    "Enter 'h' to indicate the guess is too high. Enter 'l' to indicate the guess is too low. Enter 'c' to indicate I guessed correctly. l\n",
    "Is your secret number 84?\n",
    "Enter 'h' to indicate the guess is too high. Enter 'l' to indicate the guess is too low. Enter 'c' to indicate I guessed correctly. h\n",
    "Is your secret number 82?\n",
    "Enter 'h' to indicate the guess is too high. Enter 'l' to indicate the guess is too low. Enter 'c' to indicate I guessed correctly. l\n",
    "Is your secret number 83?\n",
    "Enter 'h' to indicate the guess is too high. Enter 'l' to indicate the guess is too low. Enter 'c' to indicate I guessed correctly. c\n",
    "Game over. Your secret number was: 83\n",
    "```"
   ]
  },
  {
   "cell_type": "markdown",
   "metadata": {
    "slideshow": {
     "slide_type": "slide"
    }
   },
   "source": [
    "## 隨堂練習\n",
    "\n",
    "- [Fibonacci](https://en.wikipedia.org/wiki/Fibonacci_number)\n",
    "- 使用 `while` 迴圈找出 Fibonacci 數列的前 20 個數字\n",
    "- 使用 `for` 迴圈找出 Fibonacci 數列的前 20 個數字"
   ]
  }
 ],
 "metadata": {
  "celltoolbar": "Slideshow",
  "kernelspec": {
   "display_name": "Python 3",
   "language": "python",
   "name": "python3"
  },
  "language_info": {
   "codemirror_mode": {
    "name": "ipython",
    "version": 3
   },
   "file_extension": ".py",
   "mimetype": "text/x-python",
   "name": "python",
   "nbconvert_exporter": "python",
   "pygments_lexer": "ipython3",
   "version": "3.6.0"
  }
 },
 "nbformat": 4,
 "nbformat_minor": 2
}
