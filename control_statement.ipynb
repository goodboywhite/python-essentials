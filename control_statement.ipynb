{
 "cells": [
  {
   "cell_type": "markdown",
   "metadata": {
    "slideshow": {
     "slide_type": "slide"
    }
   },
   "source": [
    "# 流程控制\n",
    "\n",
    "## 郭耀仁"
   ]
  },
  {
   "cell_type": "markdown",
   "metadata": {
    "slideshow": {
     "slide_type": "slide"
    }
   },
   "source": [
    "## 流程控制結構\n",
    "\n",
    "```python\n",
    "if 條件一判斷為 True:\n",
    "    # 做些什麼事\n",
    "elif 條件二判斷為 True:\n",
    "    # 做些什麼事\n",
    "else:\n",
    "    # 在條件一與條件二都判斷為 False 的時候做些什麼事\n",
    "```"
   ]
  },
  {
   "cell_type": "markdown",
   "metadata": {
    "slideshow": {
     "slide_type": "subslide"
    }
   },
   "source": [
    "## if-else\n",
    "\n",
    "- 透過 `if-else` 的結構創造程式的分支\n",
    "- 例如：整數除以 2 的餘數只會有兩種答案\n",
    "\n",
    "```python\n",
    "my_int = input(\"請輸入一個整數：\")\n",
    "if int(my_int) % 2 == 0:\n",
    "    print(\"{} 是偶數\".format(my_int))\n",
    "else:\n",
    "    print(\"{} 是奇數\".format(my_int))\n",
    "```"
   ]
  },
  {
   "cell_type": "markdown",
   "metadata": {
    "slideshow": {
     "slide_type": "subslide"
    }
   },
   "source": [
    "## if-elif-else\n",
    "\n",
    "- 透過 `if-elif-else` 的結構創造程式的分支\n",
    "- 例如：整數除以 3 的餘數會有三種答案\n",
    "\n",
    "```python\n",
    "my_int = input(\"請輸入一個整數：\")\n",
    "my_int = int(my_int)\n",
    "if (my_int % 3 == 0):\n",
    "    print(\"{} 可以被 3 整除\".format(my_int))\n",
    "elif (my_int % 3 ==1):\n",
    "    print(\"{} 除以 3 餘數是 1\".format(my_int))\n",
    "else:\n",
    "    print(\"{} 除以 3 餘數是 2\".format(my_int))\n",
    "```"
   ]
  },
  {
   "cell_type": "markdown",
   "metadata": {
    "slideshow": {
     "slide_type": "subslide"
    }
   },
   "source": [
    "## 隨堂練習\n",
    "\n",
    "- 請使用者輸入一種天氣，假如是晴天或多雲印\"去戶外跑步\"，小雨印\"去健身房\"，否則印\"天氣未知，待在家裡當沙發馬鈴薯\"\n",
    "\n",
    "```python\n",
    "weathers = input(\"請輸入一種天氣：\")\n",
    "if ___:\n",
    "    print(___)\n",
    "elif ___:\n",
    "    print()\n",
    "else ___:\n",
    "    print()\n",
    "```"
   ]
  }
 ],
 "metadata": {
  "celltoolbar": "Slideshow",
  "kernelspec": {
   "display_name": "Python 3",
   "language": "python",
   "name": "python3"
  },
  "language_info": {
   "codemirror_mode": {
    "name": "ipython",
    "version": 3
   },
   "file_extension": ".py",
   "mimetype": "text/x-python",
   "name": "python",
   "nbconvert_exporter": "python",
   "pygments_lexer": "ipython3",
   "version": "3.6.0"
  }
 },
 "nbformat": 4,
 "nbformat_minor": 1
}
