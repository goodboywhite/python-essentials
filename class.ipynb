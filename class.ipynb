{
 "cells": [
  {
   "cell_type": "markdown",
   "metadata": {
    "slideshow": {
     "slide_type": "slide"
    }
   },
   "source": [
    "#  類別\n",
    "\n",
    "## 郭耀仁"
   ]
  },
  {
   "cell_type": "markdown",
   "metadata": {
    "slideshow": {
     "slide_type": "slide"
    }
   },
   "source": [
    "## 物件導向\n",
    "\n",
    "- Object-oriented programming\n",
    "- 自訂類別（Class）模擬真實世界的情況\n",
    "- 根據這些類別建立物件（Object）\n",
    "- 而這些物件都具有類別的特性"
   ]
  },
  {
   "cell_type": "markdown",
   "metadata": {
    "slideshow": {
     "slide_type": "subslide"
    }
   },
   "source": [
    "## 物件導向的四大特性\n",
    "\n",
    "- Encapsulation: 將變數與函數放在一個物件中\n",
    "- Abstraction: 與使用函數的優點相仿\n",
    "- Inheritance: 減少重複工作\n",
    "- Polymorphism: 減少複雜的 if-elif-else"
   ]
  },
  {
   "cell_type": "markdown",
   "metadata": {
    "slideshow": {
     "slide_type": "subslide"
    }
   },
   "source": [
    "## 生物的分類\n",
    "\n",
    "- 界、門、綱、目、科、屬、種\n",
    "- [生物分類法](https://zh.wikipedia.org/wiki/%E7%94%9F%E7%89%A9%E5%88%86%E9%A1%9E%E6%B3%95#%E6%9E%97%E5%A5%88%E6%B0%8F%E5%88%86%E9%A1%9E%E6%B3%95)"
   ]
  },
  {
   "cell_type": "markdown",
   "metadata": {
    "slideshow": {
     "slide_type": "subslide"
    }
   },
   "source": [
    "## 自訂類別要擺放什麼東西\n",
    "\n",
    "- 賦予類別各種屬性（Attributes）與方法（Methods）\n",
    "- 屬性可以想成資料（靜態），方法則想成函數（動態）"
   ]
  },
  {
   "cell_type": "markdown",
   "metadata": {
    "slideshow": {
     "slide_type": "slide"
    }
   },
   "source": [
    "## 自訂類別\n",
    "\n",
    "![](https://storage.googleapis.com/intro-2-py-ds/img/ch7/aoeII.png)"
   ]
  },
  {
   "cell_type": "markdown",
   "metadata": {
    "slideshow": {
     "slide_type": "subslide"
    }
   },
   "source": [
    "## 自訂類別\n",
    "\n",
    "- `__init__()` 方法稱為建構子或者初始化方法\n",
    "- `self` 就像是 `this` 的作用，在使用方法時不需要加入\n",
    "- `__doc__` 屬性可以看類別說明文件"
   ]
  },
  {
   "cell_type": "markdown",
   "metadata": {
    "slideshow": {
     "slide_type": "subslide"
    }
   },
   "source": [
    "## 自訂類別\n",
    "\n",
    "- 建築物（Building）類別有基本屬性為建築物名稱："
   ]
  },
  {
   "cell_type": "code",
   "execution_count": 1,
   "metadata": {},
   "outputs": [
    {
     "name": "stdout",
     "output_type": "stream",
     "text": [
      "\n",
      "    建築物類別\n",
      "    \n",
      "城鎮中心\n",
      "軍營\n",
      "修道院\n"
     ]
    }
   ],
   "source": [
    "class Building():\n",
    "    '''\n",
    "    建築物類別\n",
    "    '''\n",
    "    def __init__(self, name):\n",
    "        self.name = name\n",
    "\n",
    "town_center = Building(\"城鎮中心\")\n",
    "barrack = Building(\"軍營\")\n",
    "monastery = Building(\"修道院\")\n",
    "\n",
    "print(town_center.__doc__)\n",
    "print(town_center.name)\n",
    "print(barrack.name)\n",
    "print(monastery.name)"
   ]
  },
  {
   "cell_type": "markdown",
   "metadata": {
    "slideshow": {
     "slide_type": "subslide"
    }
   },
   "source": [
    "## 自訂類別\n",
    "\n",
    "- 建築物（Building）類別有基本方法為生產："
   ]
  },
  {
   "cell_type": "code",
   "execution_count": 2,
   "metadata": {},
   "outputs": [
    {
     "name": "stdout",
     "output_type": "stream",
     "text": [
      "城鎮中心生產村民\n",
      "軍營生產長劍兵\n",
      "修道院生產僧侶\n"
     ]
    }
   ],
   "source": [
    "class Building():\n",
    "    '''\n",
    "    建築物類別\n",
    "    '''\n",
    "    def __init__(self, name, unit):\n",
    "        self.name = name\n",
    "        self.unit = unit\n",
    "    \n",
    "    def create(self):\n",
    "        return \"%s生產%s\" %(self.name, self.unit)\n",
    "\n",
    "town_center = Building(\"城鎮中心\", \"村民\")\n",
    "barrack = Building(\"軍營\", \"長劍兵\")\n",
    "monastery = Building(\"修道院\", \"僧侶\")\n",
    "\n",
    "print(town_center.create())\n",
    "print(barrack.create())\n",
    "print(monastery.create())"
   ]
  },
  {
   "cell_type": "markdown",
   "metadata": {
    "slideshow": {
     "slide_type": "subslide"
    }
   },
   "source": [
    "## 自訂類別\n",
    "\n",
    "- 類別具有繼承的特性："
   ]
  },
  {
   "cell_type": "code",
   "execution_count": 1,
   "metadata": {},
   "outputs": [
    {
     "name": "stdout",
     "output_type": "stream",
     "text": [
      "城堡\n",
      "城堡生產特殊兵種\n"
     ]
    }
   ],
   "source": [
    "class Building():\n",
    "    '''\n",
    "    建築物類別\n",
    "    '''\n",
    "    def __init__(self, name, unit):\n",
    "        self.name = name\n",
    "        self.unit = unit\n",
    "    \n",
    "    def create(self):\n",
    "        return \"%s生產%s\" %(self.name, self.unit)\n",
    "\n",
    "class Castle(Building):\n",
    "    '''\n",
    "    城堡類別\n",
    "    '''\n",
    "    pass\n",
    "\n",
    "castle = Castle(\"城堡\", \"特殊兵種\")\n",
    "print(castle.name)\n",
    "print(castle.create())"
   ]
  },
  {
   "cell_type": "markdown",
   "metadata": {
    "slideshow": {
     "slide_type": "subslide"
    }
   },
   "source": [
    "## 自訂類別\n",
    "\n",
    "- 類別繼承之後可以新增或改寫方法："
   ]
  },
  {
   "cell_type": "code",
   "execution_count": 4,
   "metadata": {},
   "outputs": [
    {
     "name": "stdout",
     "output_type": "stream",
     "text": [
      "城堡\n",
      "城堡生產特殊兵種與巨型投石車\n",
      "城堡使用弓箭攻擊\n"
     ]
    }
   ],
   "source": [
    "class Building():\n",
    "    '''\n",
    "    建築物類別\n",
    "    '''\n",
    "    def __init__(self, name, unit):\n",
    "        self.name = name\n",
    "        self.unit = unit\n",
    "    \n",
    "    def create(self):\n",
    "        return \"%s生產%s\" %(self.name, self.unit)\n",
    "\n",
    "class Castle(Building):\n",
    "    '''\n",
    "    城堡類別\n",
    "    '''\n",
    "    def create(self):\n",
    "        return \"%s生產%s與巨型投石車\" %(self.name, self.unit)\n",
    "    \n",
    "    def attack(self):\n",
    "        return \"%s使用弓箭攻擊\" %(self.name)\n",
    "\n",
    "castle = Castle(\"城堡\", \"特殊兵種\")\n",
    "print(castle.name)\n",
    "print(castle.create())\n",
    "print(castle.attack())"
   ]
  },
  {
   "cell_type": "markdown",
   "metadata": {
    "slideshow": {
     "slide_type": "subslide"
    }
   },
   "source": [
    "## 自訂類別\n",
    "\n",
    "- 使用 `super()` 繼承母類別的屬性（Python 2 不同）"
   ]
  },
  {
   "cell_type": "code",
   "execution_count": 5,
   "metadata": {},
   "outputs": [
    {
     "name": "stdout",
     "output_type": "stream",
     "text": [
      "城堡生產特殊兵種與巨型投石車\n"
     ]
    }
   ],
   "source": [
    "class Building():\n",
    "    '''\n",
    "    建築物類別\n",
    "    '''\n",
    "    def __init__(self, name, unit):\n",
    "        self.name = name\n",
    "        self.unit = unit\n",
    "    \n",
    "    def create(self):\n",
    "        return \"%s生產%s\" %(self.name, self.unit)\n",
    "\n",
    "class Castle(Building):\n",
    "    '''\n",
    "    城堡類別\n",
    "    '''\n",
    "    def __init__(self, name, unit, siege_unit):\n",
    "        super().__init__(name, unit)\n",
    "        self.siege_unit = siege_unit\n",
    "    \n",
    "    def create(self):\n",
    "        return \"%s生產%s與%s\" %(self.name, self.unit, self.siege_unit)\n",
    "\n",
    "castle = Castle(\"城堡\", \"特殊兵種\", \"巨型投石車\")\n",
    "print(castle.create())"
   ]
  },
  {
   "cell_type": "markdown",
   "metadata": {
    "slideshow": {
     "slide_type": "slide"
    }
   },
   "source": [
    "## 類別、物件、屬性與方法的階層關係\n",
    "\n",
    "- 類別（Class）\n",
    "    - 物件（Object）\n",
    "        - 屬性（Attribute）\n",
    "        - 方法（Method）"
   ]
  },
  {
   "cell_type": "markdown",
   "metadata": {
    "slideshow": {
     "slide_type": "slide"
    }
   },
   "source": [
    "## 隨堂練習\n",
    "\n",
    "![](https://storage.googleapis.com/intro-2-py-ds/img/ch7/dbfighterz.jpg)"
   ]
  },
  {
   "cell_type": "markdown",
   "metadata": {
    "slideshow": {
     "slide_type": "slide"
    }
   },
   "source": [
    "## 隨堂練習\n",
    "\n",
    "- 定義一個類別 `DBFighter`\n",
    "    - 一個屬性：姓名\n",
    "    - 三個方法：拳、踢、氣功波"
   ]
  },
  {
   "cell_type": "code",
   "execution_count": 6,
   "metadata": {
    "collapsed": true
   },
   "outputs": [],
   "source": [
    "class DBFighter():\n",
    "    '''\n",
    "    七龍珠格鬥遊戲\n",
    "    '''\n",
    "    def __init__(self, name):\n",
    "        self.name = name\n",
    "    \n",
    "    def punch(self):\n",
    "        return \"%s使用拳擊！\" % self.name\n",
    "    \n",
    "    def kick(self):\n",
    "        return \"%s使用踢擊！\" % self.name\n",
    "    \n",
    "    def shock_wave(self):\n",
    "        return \"%s使用氣功波！\" % self.name"
   ]
  },
  {
   "cell_type": "markdown",
   "metadata": {
    "slideshow": {
     "slide_type": "subslide"
    }
   },
   "source": [
    "## 隨堂練習\n",
    "\n",
    "- 定義一個類別 `Goku` 繼承 `DBFighter`，增加原名（Kakarot）、新增龜派氣功方法（Kamehameha），利用 `Goku` 建立 `goku` 物件，印出原名與使用龜派氣功方法"
   ]
  },
  {
   "cell_type": "markdown",
   "metadata": {
    "slideshow": {
     "slide_type": "subslide"
    }
   },
   "source": [
    "## 隨堂練習\n",
    "\n",
    "- 定義一個類別 `Vegeta` 繼承 `DBFighter`，新增終極閃光方法（final_flash），利用 `Vegeta` 建立 `vegeta` 物件，印出姓名與使用終極閃光方法"
   ]
  }
 ],
 "metadata": {
  "celltoolbar": "Slideshow",
  "kernelspec": {
   "display_name": "Python 3",
   "language": "python",
   "name": "python3"
  },
  "language_info": {
   "codemirror_mode": {
    "name": "ipython",
    "version": 3
   },
   "file_extension": ".py",
   "mimetype": "text/x-python",
   "name": "python",
   "nbconvert_exporter": "python",
   "pygments_lexer": "ipython3",
   "version": "3.6.0"
  }
 },
 "nbformat": 4,
 "nbformat_minor": 1
}
