{
 "cells": [
  {
   "cell_type": "markdown",
   "metadata": {
    "slideshow": {
     "slide_type": "slide"
    }
   },
   "source": [
    "# 輕鬆學習 Python | 從基礎到應用，成為初級 Python 資料分析師\n",
    "\n",
    "> 如何擷取網頁內容（網路爬蟲）\n",
    "\n",
    "郭耀仁"
   ]
  },
  {
   "cell_type": "markdown",
   "metadata": {
    "slideshow": {
     "slide_type": "subslide"
    }
   },
   "source": [
    "## 課程綱要\n",
    "\n",
    "- 網頁資料擷取的核心任務\n",
    "- 由 Web API 擷取網頁資料\n",
    "- 由 HTML 擷取網頁資料\n",
    "- 操縱自動化瀏覽器擷取網頁資料"
   ]
  },
  {
   "cell_type": "markdown",
   "metadata": {
    "slideshow": {
     "slide_type": "slide"
    }
   },
   "source": [
    "## 網頁資料擷取的核心任務"
   ]
  },
  {
   "cell_type": "markdown",
   "metadata": {
    "slideshow": {
     "slide_type": "subslide"
    }
   },
   "source": [
    "## 盤點核心任務\n",
    "\n",
    "以 Python 豐富的模組、Chrome 瀏覽器外掛與開發者工具來進行兩項核心任務：\n",
    "\n",
    "1. 獲得資料\n",
    "2. 解析資料"
   ]
  },
  {
   "cell_type": "markdown",
   "metadata": {
    "slideshow": {
     "slide_type": "subslide"
    }
   },
   "source": [
    "## 獲得資料\n",
    "\n",
    "- 使用 [Quick JavaScript Switcher](https://chrome.google.com/webstore/detail/quick-javascript-switcher/geddoclleiomckbhadiaipdggiiccfje) 與 Chrome 開發者工具判斷網頁資料類型\n",
    "- 以 `requests` 或 `selenium` 發送 HTTP 請求獲得網頁資料"
   ]
  },
  {
   "cell_type": "markdown",
   "metadata": {
    "slideshow": {
     "slide_type": "subslide"
    }
   },
   "source": [
    "## 解析資料\n",
    "\n",
    "- 如果網頁資料是 JSON 格式：以 `requests` 獲取後可直接以 Python 資料結構解析\n",
    "- 如果網頁資料是 XML 格式：以 `lxml` 搭配 XPath 解析\n",
    "- 如果網頁資料是 HTML 格式：以 `pyquery` 或 `selenium` 搭配 CSS Selector 解析"
   ]
  },
  {
   "cell_type": "markdown",
   "metadata": {
    "slideshow": {
     "slide_type": "slide"
    }
   },
   "source": [
    "## 由 Web API 擷取網頁資料"
   ]
  },
  {
   "cell_type": "markdown",
   "metadata": {
    "slideshow": {
     "slide_type": "subslide"
    }
   },
   "source": [
    "## 幫助瀏覽 Web API 資料外觀的 Chrome 外掛\n",
    "\n",
    "[JSON View](https://chrome.google.com/webstore/detail/jsonview/chklaanhfefbnpoihckbnefhakgolnmc)"
   ]
  },
  {
   "cell_type": "markdown",
   "metadata": {
    "slideshow": {
     "slide_type": "subslide"
    }
   },
   "source": [
    "## Web API 資料範例\n",
    "\n",
    "- [空氣品質指標(AQI)](https://opendata.epa.gov.tw/ws/Data/AQI/?$format=json)\n",
    "- [data.nba](https://data.nba.com/)\n",
    "- [PChome](https://ecshweb.pchome.com.tw/search/v3.3/all/results?q=macbook&page=1&sort=sale/dc)"
   ]
  },
  {
   "cell_type": "markdown",
   "metadata": {
    "slideshow": {
     "slide_type": "subslide"
    }
   },
   "source": [
    "## 判斷網頁資料類型\n",
    "\n",
    "- 以 <https://ecshweb.pchome.com.tw/search/v3.3/?q=macbook> 示範"
   ]
  },
  {
   "cell_type": "markdown",
   "metadata": {
    "slideshow": {
     "slide_type": "subslide"
    }
   },
   "source": [
    "## 獲得與解析 Web API 資料\n",
    "\n",
    "- JSON 格式\n",
    "- XML 格式"
   ]
  },
  {
   "cell_type": "markdown",
   "metadata": {
    "slideshow": {
     "slide_type": "subslide"
    }
   },
   "source": [
    "## 獲得與解析 Web API 資料：JSON 格式\n",
    "\n",
    "以 <https://opendata.epa.gov.tw/ws/Data/AQI/?$format=json> 示範"
   ]
  },
  {
   "cell_type": "code",
   "execution_count": 1,
   "metadata": {
    "slideshow": {
     "slide_type": "fragment"
    }
   },
   "outputs": [
    {
     "name": "stdout",
     "output_type": "stream",
     "text": [
      "<class 'list'>\n"
     ]
    },
    {
     "name": "stderr",
     "output_type": "stream",
     "text": [
      "/Users/kuoyaojen/anaconda3/lib/python3.7/site-packages/urllib3/connectionpool.py:847: InsecureRequestWarning: Unverified HTTPS request is being made. Adding certificate verification is strongly advised. See: https://urllib3.readthedocs.io/en/latest/advanced-usage.html#ssl-warnings\n",
      "  InsecureRequestWarning)\n"
     ]
    }
   ],
   "source": [
    "import requests\n",
    "\n",
    "aqi_url = \"https://opendata.epa.gov.tw/ws/Data/AQI/?$format=json\"\n",
    "r = requests.get(aqi_url, verify=False)\n",
    "aqi = r.json()\n",
    "print(type(aqi))"
   ]
  },
  {
   "cell_type": "markdown",
   "metadata": {
    "slideshow": {
     "slide_type": "subslide"
    }
   },
   "source": [
    "## 獲得與解析 Web API 資料：XML 格式\n",
    "\n",
    "以 <https://opendata.epa.gov.tw/ws/Data/AQI/?$format=xml> 示範"
   ]
  },
  {
   "cell_type": "code",
   "execution_count": 2,
   "metadata": {
    "slideshow": {
     "slide_type": "fragment"
    }
   },
   "outputs": [
    {
     "name": "stderr",
     "output_type": "stream",
     "text": [
      "/Users/kuoyaojen/anaconda3/lib/python3.7/site-packages/urllib3/connectionpool.py:847: InsecureRequestWarning: Unverified HTTPS request is being made. Adding certificate verification is strongly advised. See: https://urllib3.readthedocs.io/en/latest/advanced-usage.html#ssl-warnings\n",
      "  InsecureRequestWarning)\n"
     ]
    }
   ],
   "source": [
    "import requests\n",
    "\n",
    "aqi_url = \"https://opendata.epa.gov.tw/ws/Data/AQI/?$format=xml\"\n",
    "r = requests.get(aqi_url, verify=False)"
   ]
  },
  {
   "cell_type": "code",
   "execution_count": 3,
   "metadata": {
    "slideshow": {
     "slide_type": "subslide"
    }
   },
   "outputs": [
    {
     "name": "stdout",
     "output_type": "stream",
     "text": [
      "['屏東(琉球)', '苗栗(後龍)', '彰化(大城)', '臺南(北門)', '富貴角', '麥寮', '關山', '馬公', '金門', '馬祖', '埔里', '復興', '永和', '竹山', '中壢', '三重', '冬山', '宜蘭', '陽明', '花蓮', '臺東', '恆春', '潮州', '屏東', '小港', '前鎮', '前金', '左營', '楠梓', '林園', '大寮', '鳳山', '仁武', '橋頭', '美濃', '臺南', '安南', '善化', '新營', '嘉義', '臺西', '朴子', '新港', '崙背', '斗六', '南投', '二林', '線西', '彰化', '西屯', '忠明', '大里', '沙鹿', '豐原', '三義', '苗栗', '頭份', '新竹', '竹東', '湖口', '龍潭', '平鎮', '觀音', '大園', '桃園', '大同', '松山', '古亭', '萬華', '中山', '士林', '淡水', '林口', '菜寮', '新莊', '板橋', '土城', '新店', '萬里', '汐止', '基隆']\n"
     ]
    }
   ],
   "source": [
    "from lxml import etree\n",
    "from io import BytesIO\n",
    "\n",
    "f = BytesIO(r.content)\n",
    "tree = etree.parse(f)\n",
    "site_names = [t.text for t in tree.xpath(\"/AQI/Data/SiteName\")]\n",
    "print(site_names)"
   ]
  },
  {
   "cell_type": "markdown",
   "metadata": {
    "slideshow": {
     "slide_type": "slide"
    }
   },
   "source": [
    "## 由 HTML 擷取網頁資料"
   ]
  },
  {
   "cell_type": "markdown",
   "metadata": {
    "slideshow": {
     "slide_type": "subslide"
    }
   },
   "source": [
    "## 常見用來標示 HTML 資料的方法\n",
    "\n",
    "- HTML 的標籤名稱\n",
    "- HTML 標籤中給予的 id\n",
    "- HTML 標籤中給予的 class\n",
    "- **資料所在的 CSS 選擇器（CSS Selector）**\n",
    "- 資料所在的 XPath"
   ]
  },
  {
   "cell_type": "markdown",
   "metadata": {
    "slideshow": {
     "slide_type": "subslide"
    }
   },
   "source": [
    "## 幫助 CSS 選擇的 Chrome 外掛\n",
    "\n",
    "[SelectorGadget](https://chrome.google.com/webstore/detail/selectorgadget/mhjhnkcfbdhnjickkkdbjoemdmbfginb)"
   ]
  },
  {
   "cell_type": "markdown",
   "metadata": {
    "slideshow": {
     "slide_type": "subslide"
    }
   },
   "source": [
    "## [SelectorGadget](https://chrome.google.com/webstore/detail/selectorgadget/mhjhnkcfbdhnjickkkdbjoemdmbfginb) 的使用方法\n",
    "\n",
    "1. 點選 SelectorGadget 的外掛圖示\n",
    "2. 留意 SelectorGadget 的 CSS 選擇器\n",
    "3. 移動滑鼠到想要定位的元素\n",
    "3. 在想要定位的資料上面點選左鍵，留意 Clear 後面數字表示有多少個元素被選擇到\n",
    "4. 移動滑鼠點選不要選擇的元素（改以紅底標記），並同時注意 CSS 選擇器位址與 Clear 後面數字"
   ]
  },
  {
   "cell_type": "markdown",
   "metadata": {
    "slideshow": {
     "slide_type": "subslide"
    }
   },
   "source": [
    "## 以 [Captain Marvel (2019)](https://www.imdb.com/title/tt4154664) 示範 [SelectorGadget](https://chrome.google.com/webstore/detail/selectorgadget/mhjhnkcfbdhnjickkkdbjoemdmbfginb) 的使用方法\n",
    "\n",
    "- 評分\n",
    "- 劇情類型\n",
    "- 演員名單"
   ]
  },
  {
   "cell_type": "markdown",
   "metadata": {
    "slideshow": {
     "slide_type": "subslide"
    }
   },
   "source": [
    "## 使用 PyQuery 擷取網頁資料\n",
    "\n",
    "- 使用 pyquery 模組的 PyQuery() 函數取得 HTML 文件\n",
    "- 指派 CSS 選擇器或 XPath 解析出所需部分資料"
   ]
  },
  {
   "cell_type": "code",
   "execution_count": 4,
   "metadata": {
    "slideshow": {
     "slide_type": "subslide"
    }
   },
   "outputs": [],
   "source": [
    "#!pip install pyquery\n",
    "from pyquery import PyQuery as pq\n",
    "\n",
    "page_url = \"https://www.imdb.com/title/tt4154664\"\n",
    "html_doc = pq(page_url)"
   ]
  },
  {
   "cell_type": "code",
   "execution_count": 5,
   "metadata": {
    "slideshow": {
     "slide_type": "subslide"
    }
   },
   "outputs": [
    {
     "name": "stdout",
     "output_type": "stream",
     "text": [
      "7.2\n"
     ]
    }
   ],
   "source": [
    "rating_css = \"strong span\"\n",
    "rating = [float(i.text()) for i in html_doc.items(rating_css)]\n",
    "print(rating[0])"
   ]
  },
  {
   "cell_type": "code",
   "execution_count": 6,
   "metadata": {
    "slideshow": {
     "slide_type": "subslide"
    }
   },
   "outputs": [
    {
     "name": "stdout",
     "output_type": "stream",
     "text": [
      "['Action', 'Adventure', 'Sci-Fi']\n",
      "6 March 2019 (Taiwan)\n"
     ]
    }
   ],
   "source": [
    "genre_css = \".subtext a\"\n",
    "genre = [i.text() for i in html_doc.items(genre_css)]\n",
    "release_date = genre.pop()\n",
    "print(genre)\n",
    "print(release_date)"
   ]
  },
  {
   "cell_type": "code",
   "execution_count": 7,
   "metadata": {
    "slideshow": {
     "slide_type": "subslide"
    }
   },
   "outputs": [
    {
     "name": "stdout",
     "output_type": "stream",
     "text": [
      "['Brie Larson', 'Samuel L. Jackson', 'Ben Mendelsohn', 'Jude Law', 'Annette Bening', 'Lashana Lynch', 'Clark Gregg', 'Rune Temte', 'Gemma Chan', 'Algenis Perez Soto', 'Djimon Hounsou', 'Lee Pace', 'Chuku Modu', 'Matthew Maher', 'Akira Akbar']\n"
     ]
    }
   ],
   "source": [
    "cast_css = \".primary_photo+ td a\"\n",
    "cast = [i.text() for i in html_doc.items(cast_css)]\n",
    "print(cast)"
   ]
  },
  {
   "cell_type": "code",
   "execution_count": 8,
   "metadata": {
    "slideshow": {
     "slide_type": "subslide"
    }
   },
   "outputs": [],
   "source": [
    "def get_movie_data(movie_url):\n",
    "    \"\"\"Getting movie data from IMDB.com\"\"\"\n",
    "    page_url = \"https://www.imdb.com/title/tt4154664\"\n",
    "    rating_css = \"strong span\"\n",
    "    genre_css = \".subtext a\"\n",
    "    cast_css = \".primary_photo+ td a\"\n",
    "    html_doc = pq(page_url)\n",
    "    rating = [float(i.text()) for i in html_doc.items(rating_css)][0]\n",
    "    genre = [i.text() for i in html_doc.items(genre_css)]\n",
    "    release_date = genre.pop()\n",
    "    cast = [i.text() for i in html_doc.items(cast_css)]\n",
    "    movie_data = {\n",
    "        \"movieRating\": rating,\n",
    "        \"movieGenre\": genre,\n",
    "        \"movieReleaseDate\": release_date,\n",
    "        \"movieCast\": cast\n",
    "    }\n",
    "    return movie_data"
   ]
  },
  {
   "cell_type": "code",
   "execution_count": 9,
   "metadata": {
    "slideshow": {
     "slide_type": "subslide"
    }
   },
   "outputs": [
    {
     "data": {
      "text/plain": [
       "{'movieRating': 7.2,\n",
       " 'movieGenre': ['Action', 'Adventure', 'Sci-Fi'],\n",
       " 'movieReleaseDate': '6 March 2019 (Taiwan)',\n",
       " 'movieCast': ['Brie Larson',\n",
       "  'Samuel L. Jackson',\n",
       "  'Ben Mendelsohn',\n",
       "  'Jude Law',\n",
       "  'Annette Bening',\n",
       "  'Lashana Lynch',\n",
       "  'Clark Gregg',\n",
       "  'Rune Temte',\n",
       "  'Gemma Chan',\n",
       "  'Algenis Perez Soto',\n",
       "  'Djimon Hounsou',\n",
       "  'Lee Pace',\n",
       "  'Chuku Modu',\n",
       "  'Matthew Maher',\n",
       "  'Akira Akbar']}"
      ]
     },
     "execution_count": 9,
     "metadata": {},
     "output_type": "execute_result"
    }
   ],
   "source": [
    "get_movie_data(\"https://www.imdb.com/title/tt4154664\")"
   ]
  },
  {
   "cell_type": "markdown",
   "metadata": {
    "slideshow": {
     "slide_type": "subslide"
    }
   },
   "source": [
    "## 實作練習：回傳資料加入片長 `movieLength`"
   ]
  },
  {
   "cell_type": "markdown",
   "metadata": {
    "slideshow": {
     "slide_type": "subslide"
    }
   },
   "source": [
    "## 實作練習：讓 `get_movie_data()` 更方便使用\n",
    "\n",
    "- 可以輸入電影名稱，而非 URL！\n",
    "- 以 `urllib.parse.quote_plus()` 製作 query string\n",
    "- 以 `.attr('href')` 獲得連結"
   ]
  },
  {
   "cell_type": "markdown",
   "metadata": {
    "slideshow": {
     "slide_type": "subslide"
    }
   },
   "source": [
    "## 實作練習：擷取華航電影清單再前往 IMDB 查詢平等\n",
    "\n",
    "- [華航電影清單](http://www.fantasy-sky.com/ContentList.aspx?section=002)"
   ]
  },
  {
   "cell_type": "markdown",
   "metadata": {
    "slideshow": {
     "slide_type": "fragment"
    }
   },
   "source": [
    "## 幫助檢視 Cookies 的 Chrome 外掛\n",
    "\n",
    "[EditThisCookie](https://chrome.google.com/webstore/detail/editthiscookie/fngmhnnpilhplaeedifhccceomclgfbg)"
   ]
  },
  {
   "cell_type": "markdown",
   "metadata": {
    "slideshow": {
     "slide_type": "slide"
    }
   },
   "source": [
    "## 操縱自動化瀏覽器擷取網頁資料"
   ]
  },
  {
   "cell_type": "markdown",
   "metadata": {
    "slideshow": {
     "slide_type": "subslide"
    }
   },
   "source": [
    "## 在研究如何使 `get_movie_data()` 更方便的過程中我們做了幾個動作\n",
    "\n",
    "1. 前往 <https://www.imdb.com/> 首頁\n",
    "2. 輸入電影名稱\n",
    "3. 點選搜尋\n",
    "4. 點選 Movie 分類標籤\n",
    "5. 點選相似度最高的搜尋結果"
   ]
  },
  {
   "cell_type": "markdown",
   "metadata": {
    "slideshow": {
     "slide_type": "subslide"
    }
   },
   "source": [
    "## 這些操作可以利用 `selenium` 模組來自動化！"
   ]
  },
  {
   "cell_type": "markdown",
   "metadata": {
    "slideshow": {
     "slide_type": "subslide"
    }
   },
   "source": [
    "## 什麼是 Selenium\n",
    "\n",
    "- Selenium 是瀏覽器自動化測試的解決方案\n",
    "- Python 透過 Selenium WebDriver 呼叫瀏覽器驅動程式，再由瀏覽器驅動程式去呼叫瀏覽器\n",
    "- 對 **Google Chrome** 與 Mozilla Firefox 兩個主流瀏覽器的支援最好"
   ]
  },
  {
   "cell_type": "markdown",
   "metadata": {
    "slideshow": {
     "slide_type": "subslide"
    }
   },
   "source": [
    "## Selenium 環境設定\n",
    "\n",
    "- 前往[官方網站](https://www.google.com/chrome/)下載最新版的瀏覽器\n",
    "- 下載最新版的瀏覽器驅動程式 [ChromeDriver](http://chromedriver.chromium.org/)\n",
    "- 下載完成以後解壓縮在熟悉路徑讓後續指派較為方便"
   ]
  },
  {
   "cell_type": "markdown",
   "metadata": {
    "slideshow": {
     "slide_type": "subslide"
    }
   },
   "source": [
    "## 測試是否設定完成\n",
    "\n",
    "用程式碼透過 ChromeDriver 操控 Chrome 瀏覽器前往 IMDB 首頁並將首頁的網址印出再關閉瀏覽器"
   ]
  },
  {
   "cell_type": "code",
   "execution_count": 10,
   "metadata": {
    "slideshow": {
     "slide_type": "subslide"
    }
   },
   "outputs": [
    {
     "name": "stdout",
     "output_type": "stream",
     "text": [
      "https://www.imdb.com/\n"
     ]
    }
   ],
   "source": [
    "#!pip install selenium\n",
    "from selenium import webdriver\n",
    "\n",
    "driver_path = \"/Users/kuoyaojen/Downloads/chromedriver\"\n",
    "imdb_home = \"https://www.imdb.com/\"\n",
    "driver = webdriver.Chrome(executable_path=driver_path) # Use Chrome\n",
    "driver.get(imdb_home)\n",
    "print(driver.current_url)\n",
    "driver.close()"
   ]
  },
  {
   "cell_type": "markdown",
   "metadata": {
    "slideshow": {
     "slide_type": "subslide"
    }
   },
   "source": [
    "## 要使用的方法\n",
    "\n",
    "- `driver.get()` ：前往 IMDB 首頁\n",
    "- `driver.find_element_by_css_selector()` ：定位搜尋欄位、搜尋按鈕與搜尋結果連結\n",
    "- `driver.current_url` ：取得當下瀏覽器的網址\n",
    "- `elem.send_keys()` ：輸入電影名稱\n",
    "- `elem.click()` ：按下搜尋按鈕與連結"
   ]
  },
  {
   "cell_type": "markdown",
   "metadata": {
    "slideshow": {
     "slide_type": "subslide"
    }
   },
   "source": [
    "## 實作練習：以 `selenium` 實作 `get_movie_data()`"
   ]
  },
  {
   "cell_type": "markdown",
   "metadata": {
    "slideshow": {
     "slide_type": "slide"
    }
   },
   "source": [
    "## 延伸閱讀 \n",
    "\n",
    "- [Requests: HTTP for Humans](http://docs.python-requests.org/en/master/)\n",
    "- [pyquery: a jquery-like library for python](https://pythonhosted.org/pyquery/)\n",
    "- [Selenium with Python](https://selenium-python.readthedocs.io/)\n",
    "- [靜態擷取網頁內容](https://www.datainpoint.com/data-science-in-action/04-scraping-web-statically.html)\n",
    "- [動態擷取網頁內容](https://www.datainpoint.com/data-science-in-action/05-scraping-web-dynamically.html)"
   ]
  }
 ],
 "metadata": {
  "celltoolbar": "Slideshow",
  "kernelspec": {
   "display_name": "Python 3",
   "language": "python",
   "name": "python3"
  },
  "language_info": {
   "codemirror_mode": {
    "name": "ipython",
    "version": 3
   },
   "file_extension": ".py",
   "mimetype": "text/x-python",
   "name": "python",
   "nbconvert_exporter": "python",
   "pygments_lexer": "ipython3",
   "version": "3.7.1"
  }
 },
 "nbformat": 4,
 "nbformat_minor": 2
}
